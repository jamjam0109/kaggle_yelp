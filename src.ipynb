{
 "cells": [
  {
   "cell_type": "code",
   "execution_count": 17,
   "id": "cutting-blair",
   "metadata": {},
   "outputs": [],
   "source": [
    "import pandas as pd\n",
    "import utils as ut \n",
    "from haversine import haversine"
   ]
  },
  {
   "cell_type": "code",
   "execution_count": 7,
   "id": "positive-superintendent",
   "metadata": {},
   "outputs": [],
   "source": [
    "business = pd.read_json('./data/yelp_academic_dataset_business.json', lines=True)\n",
    "checkin = pd.read_json('./data/yelp_academic_dataset_checkin.json', lines=True)"
   ]
  },
  {
   "cell_type": "markdown",
   "id": "upper-thomson",
   "metadata": {},
   "source": [
    "### Q1. 2019년 온타리오 주(state = ON)에서 별점이 3.0 이상인 레스토랑 중 체크인이 가장 많은 top 10의 레스토랑명을 내림차순으로 나열하세요."
   ]
  },
  {
   "cell_type": "markdown",
   "id": "formed-silence",
   "metadata": {},
   "source": [
    "### Answer\n",
    "온타리오 주에서 별점이 3.0 이상인 레스토랑은 없다.\n",
    "\n",
    "레스토랑이 아닌 Bernie Hipos Wedding Films라는 Event Planning & Service 가게가 있으나, 해당 가게의 체크인 결과가 없다."
   ]
  },
  {
   "cell_type": "code",
   "execution_count": 10,
   "id": "backed-edmonton",
   "metadata": {},
   "outputs": [
    {
     "data": {
      "text/html": [
       "<div>\n",
       "<style scoped>\n",
       "    .dataframe tbody tr th:only-of-type {\n",
       "        vertical-align: middle;\n",
       "    }\n",
       "\n",
       "    .dataframe tbody tr th {\n",
       "        vertical-align: top;\n",
       "    }\n",
       "\n",
       "    .dataframe thead th {\n",
       "        text-align: right;\n",
       "    }\n",
       "</style>\n",
       "<table border=\"1\" class=\"dataframe\">\n",
       "  <thead>\n",
       "    <tr style=\"text-align: right;\">\n",
       "      <th></th>\n",
       "      <th>business_id</th>\n",
       "      <th>name</th>\n",
       "      <th>state</th>\n",
       "      <th>stars</th>\n",
       "      <th>categories</th>\n",
       "    </tr>\n",
       "  </thead>\n",
       "  <tbody>\n",
       "    <tr>\n",
       "      <th>52167</th>\n",
       "      <td>9fJ7gK8SaNvoe0AP_JXZiw</td>\n",
       "      <td>Bernie Hipos Wedding Films</td>\n",
       "      <td>ON</td>\n",
       "      <td>5.0</td>\n",
       "      <td>Event Planning &amp; Services, Videographers, Prof...</td>\n",
       "    </tr>\n",
       "  </tbody>\n",
       "</table>\n",
       "</div>"
      ],
      "text/plain": [
       "                  business_id                        name state  stars  \\\n",
       "52167  9fJ7gK8SaNvoe0AP_JXZiw  Bernie Hipos Wedding Films    ON    5.0   \n",
       "\n",
       "                                              categories  \n",
       "52167  Event Planning & Services, Videographers, Prof...  "
      ]
     },
     "execution_count": 10,
     "metadata": {},
     "output_type": "execute_result"
    }
   ],
   "source": [
    "state_on = business.query(\"state == 'ON' and stars >= 3\")[['business_id', 'name', 'state', 'stars', 'categories']]\n",
    "state_on"
   ]
  },
  {
   "cell_type": "code",
   "execution_count": 9,
   "id": "brutal-logic",
   "metadata": {},
   "outputs": [
    {
     "data": {
      "text/html": [
       "<div>\n",
       "<style scoped>\n",
       "    .dataframe tbody tr th:only-of-type {\n",
       "        vertical-align: middle;\n",
       "    }\n",
       "\n",
       "    .dataframe tbody tr th {\n",
       "        vertical-align: top;\n",
       "    }\n",
       "\n",
       "    .dataframe thead th {\n",
       "        text-align: right;\n",
       "    }\n",
       "</style>\n",
       "<table border=\"1\" class=\"dataframe\">\n",
       "  <thead>\n",
       "    <tr style=\"text-align: right;\">\n",
       "      <th></th>\n",
       "      <th>business_id</th>\n",
       "      <th>name</th>\n",
       "      <th>state</th>\n",
       "      <th>stars</th>\n",
       "      <th>categories</th>\n",
       "      <th>date</th>\n",
       "    </tr>\n",
       "  </thead>\n",
       "  <tbody>\n",
       "    <tr>\n",
       "      <th>0</th>\n",
       "      <td>9fJ7gK8SaNvoe0AP_JXZiw</td>\n",
       "      <td>Bernie Hipos Wedding Films</td>\n",
       "      <td>ON</td>\n",
       "      <td>5.0</td>\n",
       "      <td>Event Planning &amp; Services, Videographers, Prof...</td>\n",
       "      <td>NaN</td>\n",
       "    </tr>\n",
       "  </tbody>\n",
       "</table>\n",
       "</div>"
      ],
      "text/plain": [
       "              business_id                        name state  stars  \\\n",
       "0  9fJ7gK8SaNvoe0AP_JXZiw  Bernie Hipos Wedding Films    ON    5.0   \n",
       "\n",
       "                                          categories date  \n",
       "0  Event Planning & Services, Videographers, Prof...  NaN  "
      ]
     },
     "execution_count": 9,
     "metadata": {},
     "output_type": "execute_result"
    }
   ],
   "source": [
    "state_on.merge(checkin, how='left')"
   ]
  },
  {
   "cell_type": "markdown",
   "id": "continuous-merchandise",
   "metadata": {},
   "source": [
    "### Q1. 토론토에서 피자 가게를 창업할 계획입니다. 다만, 24시간 영업을 해야할지 고민입니다. \n",
    "### 주어진 데이터로 24시간 영업의 타당성을 검증해 보세요. (가설을 증명하는데 필요한 정보나 상황은 자유롭게 가정하세요)"
   ]
  },
  {
   "cell_type": "markdown",
   "id": "professional-audience",
   "metadata": {},
   "source": [
    "1. 토론토 현황\n",
    "    - 토론토 데이터는 1개 뿐이며 해당 데이터의 카테고리가 음식과 무관하므로 활용하기 어렵다. \n",
    "    - 토론토와 가장 가까운 지역의 데이터를 확인할 필요가 있다."
   ]
  },
  {
   "cell_type": "code",
   "execution_count": 11,
   "id": "greater-present",
   "metadata": {},
   "outputs": [
    {
     "data": {
      "text/html": [
       "<div>\n",
       "<style scoped>\n",
       "    .dataframe tbody tr th:only-of-type {\n",
       "        vertical-align: middle;\n",
       "    }\n",
       "\n",
       "    .dataframe tbody tr th {\n",
       "        vertical-align: top;\n",
       "    }\n",
       "\n",
       "    .dataframe thead th {\n",
       "        text-align: right;\n",
       "    }\n",
       "</style>\n",
       "<table border=\"1\" class=\"dataframe\">\n",
       "  <thead>\n",
       "    <tr style=\"text-align: right;\">\n",
       "      <th></th>\n",
       "      <th>business_id</th>\n",
       "      <th>name</th>\n",
       "      <th>address</th>\n",
       "      <th>city</th>\n",
       "      <th>state</th>\n",
       "      <th>postal_code</th>\n",
       "      <th>latitude</th>\n",
       "      <th>longitude</th>\n",
       "      <th>stars</th>\n",
       "      <th>review_count</th>\n",
       "      <th>is_open</th>\n",
       "      <th>attributes</th>\n",
       "      <th>categories</th>\n",
       "      <th>hours</th>\n",
       "    </tr>\n",
       "  </thead>\n",
       "  <tbody>\n",
       "    <tr>\n",
       "      <th>52167</th>\n",
       "      <td>9fJ7gK8SaNvoe0AP_JXZiw</td>\n",
       "      <td>Bernie Hipos Wedding Films</td>\n",
       "      <td></td>\n",
       "      <td>Toronto</td>\n",
       "      <td>ON</td>\n",
       "      <td>M5C 1T4</td>\n",
       "      <td>49.226695</td>\n",
       "      <td>-122.893603</td>\n",
       "      <td>5.0</td>\n",
       "      <td>7</td>\n",
       "      <td>1</td>\n",
       "      <td>None</td>\n",
       "      <td>Event Planning &amp; Services, Videographers, Prof...</td>\n",
       "      <td>{'Monday': '9:0-17:0', 'Tuesday': '9:0-17:0', ...</td>\n",
       "    </tr>\n",
       "  </tbody>\n",
       "</table>\n",
       "</div>"
      ],
      "text/plain": [
       "                  business_id                        name address     city  \\\n",
       "52167  9fJ7gK8SaNvoe0AP_JXZiw  Bernie Hipos Wedding Films          Toronto   \n",
       "\n",
       "      state postal_code   latitude   longitude  stars  review_count  is_open  \\\n",
       "52167    ON     M5C 1T4  49.226695 -122.893603    5.0             7        1   \n",
       "\n",
       "      attributes                                         categories  \\\n",
       "52167       None  Event Planning & Services, Videographers, Prof...   \n",
       "\n",
       "                                                   hours  \n",
       "52167  {'Monday': '9:0-17:0', 'Tuesday': '9:0-17:0', ...  "
      ]
     },
     "execution_count": 11,
     "metadata": {},
     "output_type": "execute_result"
    }
   ],
   "source": [
    "business.query(\"city == 'Toronto'\")"
   ]
  },
  {
   "cell_type": "code",
   "execution_count": 12,
   "id": "female-paraguay",
   "metadata": {},
   "outputs": [
    {
     "data": {
      "text/plain": [
       "['Event Planning & Services, Videographers, Professional Services, Video/Film Production']"
      ]
     },
     "execution_count": 12,
     "metadata": {},
     "output_type": "execute_result"
    }
   ],
   "source": [
    "business.query(\"city == 'Toronto'\")['categories'].tolist()"
   ]
  },
  {
   "cell_type": "markdown",
   "id": "artificial-centre",
   "metadata": {},
   "source": [
    "과연 저곳은 정말 토론토일까 ? "
   ]
  },
  {
   "cell_type": "code",
   "execution_count": 42,
   "id": "aggregate-wrapping",
   "metadata": {},
   "outputs": [
    {
     "data": {
      "text/html": [
       "<div>\n",
       "<style scoped>\n",
       "    .dataframe tbody tr th:only-of-type {\n",
       "        vertical-align: middle;\n",
       "    }\n",
       "\n",
       "    .dataframe tbody tr th {\n",
       "        vertical-align: top;\n",
       "    }\n",
       "\n",
       "    .dataframe thead th {\n",
       "        text-align: right;\n",
       "    }\n",
       "</style>\n",
       "<table border=\"1\" class=\"dataframe\">\n",
       "  <thead>\n",
       "    <tr style=\"text-align: right;\">\n",
       "      <th></th>\n",
       "      <th>latitude</th>\n",
       "      <th>longitude</th>\n",
       "    </tr>\n",
       "  </thead>\n",
       "  <tbody>\n",
       "    <tr>\n",
       "      <th>52167</th>\n",
       "      <td>49.226695</td>\n",
       "      <td>-122.893603</td>\n",
       "    </tr>\n",
       "  </tbody>\n",
       "</table>\n",
       "</div>"
      ],
      "text/plain": [
       "        latitude   longitude\n",
       "52167  49.226695 -122.893603"
      ]
     },
     "execution_count": 42,
     "metadata": {},
     "output_type": "execute_result"
    }
   ],
   "source": [
    "business.query(\"city == 'Toronto'\")[['latitude', 'longitude']]"
   ]
  },
  {
   "cell_type": "markdown",
   "id": "convinced-religious",
   "metadata": {},
   "source": [
    "![nn](image/image1.png)"
   ]
  },
  {
   "cell_type": "code",
   "execution_count": 13,
   "id": "standard-investment",
   "metadata": {},
   "outputs": [],
   "source": [
    "toronto_lat = business.query(\"city == 'Toronto'\")['latitude'].tolist()[0]\n",
    "toronto_long = business.query(\"city == 'Toronto'\")['longitude'].tolist()[0]\n",
    "\n",
    "toronto = (toronto_lat, toronto_long)"
   ]
  },
  {
   "cell_type": "code",
   "execution_count": 14,
   "id": "studied-medicine",
   "metadata": {},
   "outputs": [],
   "source": [
    "l = list()\n",
    "for x in range(len(business)): \n",
    "    lat = business.iloc[x, :]['latitude']\n",
    "    long = business.iloc[x, :]['longitude']\n",
    "    \n",
    "    site = (lat, long)\n",
    "    \n",
    "    dist = haversine(toronto, site)\n",
    "    l.append(dist)"
   ]
  },
  {
   "cell_type": "code",
   "execution_count": 15,
   "id": "infrared-alabama",
   "metadata": {},
   "outputs": [],
   "source": [
    "business['dist_by_toronto'] = l"
   ]
  },
  {
   "cell_type": "code",
   "execution_count": 26,
   "id": "cordless-release",
   "metadata": {},
   "outputs": [],
   "source": [
    "a = business.groupby(['state', 'city'], as_index=False).agg(\n",
    "    count = ('name', 'count'),\n",
    "    lat = ('latitude', 'mean'),\n",
    "    long = ('longitude', 'mean')\n",
    ")\n"
   ]
  },
  {
   "cell_type": "code",
   "execution_count": 32,
   "id": "threaded-olive",
   "metadata": {},
   "outputs": [],
   "source": [
    "x = (43.6608104195043, -79.36970321230831)"
   ]
  },
  {
   "cell_type": "code",
   "execution_count": 35,
   "id": "meaningful-maple",
   "metadata": {},
   "outputs": [],
   "source": [
    "lat_list = a['lat'].tolist()\n",
    "long_list = a['long'].tolist()"
   ]
  },
  {
   "cell_type": "code",
   "execution_count": 37,
   "id": "bright-eating",
   "metadata": {},
   "outputs": [],
   "source": [
    "l = list()\n",
    "for idx, lat in enumerate(lat_list):\n",
    "    long = long_list[idx]\n",
    "    d = haversine(x, (lat, long))\n",
    "    l.append(d)"
   ]
  },
  {
   "cell_type": "code",
   "execution_count": 39,
   "id": "velvet-sydney",
   "metadata": {},
   "outputs": [],
   "source": [
    "a['dist'] = l"
   ]
  },
  {
   "cell_type": "code",
   "execution_count": 41,
   "id": "indoor-reynolds",
   "metadata": {},
   "outputs": [
    {
     "data": {
      "text/html": [
       "<div>\n",
       "<style scoped>\n",
       "    .dataframe tbody tr th:only-of-type {\n",
       "        vertical-align: middle;\n",
       "    }\n",
       "\n",
       "    .dataframe tbody tr th {\n",
       "        vertical-align: top;\n",
       "    }\n",
       "\n",
       "    .dataframe thead th {\n",
       "        text-align: right;\n",
       "    }\n",
       "</style>\n",
       "<table border=\"1\" class=\"dataframe\">\n",
       "  <thead>\n",
       "    <tr style=\"text-align: right;\">\n",
       "      <th></th>\n",
       "      <th>state</th>\n",
       "      <th>city</th>\n",
       "      <th>count</th>\n",
       "      <th>lat</th>\n",
       "      <th>long</th>\n",
       "      <th>dist</th>\n",
       "    </tr>\n",
       "  </thead>\n",
       "  <tbody>\n",
       "    <tr>\n",
       "      <th>674</th>\n",
       "      <td>OH</td>\n",
       "      <td>Sunbury</td>\n",
       "      <td>55</td>\n",
       "      <td>40.252194</td>\n",
       "      <td>-82.889044</td>\n",
       "      <td>477.755311</td>\n",
       "    </tr>\n",
       "    <tr>\n",
       "      <th>607</th>\n",
       "      <td>OH</td>\n",
       "      <td>Berkshire</td>\n",
       "      <td>2</td>\n",
       "      <td>40.267724</td>\n",
       "      <td>-82.924730</td>\n",
       "      <td>478.171293</td>\n",
       "    </tr>\n",
       "    <tr>\n",
       "      <th>608</th>\n",
       "      <td>OH</td>\n",
       "      <td>Berkshire Township</td>\n",
       "      <td>2</td>\n",
       "      <td>40.260521</td>\n",
       "      <td>-82.925710</td>\n",
       "      <td>478.862954</td>\n",
       "    </tr>\n",
       "    <tr>\n",
       "      <th>650</th>\n",
       "      <td>OH</td>\n",
       "      <td>Johnstown</td>\n",
       "      <td>18</td>\n",
       "      <td>40.142272</td>\n",
       "      <td>-82.712272</td>\n",
       "      <td>479.070116</td>\n",
       "    </tr>\n",
       "    <tr>\n",
       "      <th>636</th>\n",
       "      <td>OH</td>\n",
       "      <td>Galena</td>\n",
       "      <td>15</td>\n",
       "      <td>40.211070</td>\n",
       "      <td>-82.905456</td>\n",
       "      <td>482.266699</td>\n",
       "    </tr>\n",
       "    <tr>\n",
       "      <th>...</th>\n",
       "      <td>...</td>\n",
       "      <td>...</td>\n",
       "      <td>...</td>\n",
       "      <td>...</td>\n",
       "      <td>...</td>\n",
       "      <td>...</td>\n",
       "    </tr>\n",
       "    <tr>\n",
       "      <th>711</th>\n",
       "      <td>OR</td>\n",
       "      <td>Hillsbor</td>\n",
       "      <td>1</td>\n",
       "      <td>45.534892</td>\n",
       "      <td>-122.863234</td>\n",
       "      <td>3407.627212</td>\n",
       "    </tr>\n",
       "    <tr>\n",
       "      <th>708</th>\n",
       "      <td>OR</td>\n",
       "      <td>HILLSBORO</td>\n",
       "      <td>1</td>\n",
       "      <td>45.539960</td>\n",
       "      <td>-122.868184</td>\n",
       "      <td>3407.883305</td>\n",
       "    </tr>\n",
       "    <tr>\n",
       "      <th>750</th>\n",
       "      <td>OR</td>\n",
       "      <td>Sherwood</td>\n",
       "      <td>5</td>\n",
       "      <td>45.395781</td>\n",
       "      <td>-122.823625</td>\n",
       "      <td>3407.948088</td>\n",
       "    </tr>\n",
       "    <tr>\n",
       "      <th>712</th>\n",
       "      <td>OR</td>\n",
       "      <td>Hillsboro</td>\n",
       "      <td>323</td>\n",
       "      <td>45.536856</td>\n",
       "      <td>-122.877859</td>\n",
       "      <td>3408.693193</td>\n",
       "    </tr>\n",
       "    <tr>\n",
       "      <th>691</th>\n",
       "      <td>OR</td>\n",
       "      <td>Aloha</td>\n",
       "      <td>152</td>\n",
       "      <td>45.492802</td>\n",
       "      <td>-122.868816</td>\n",
       "      <td>3409.056170</td>\n",
       "    </tr>\n",
       "  </tbody>\n",
       "</table>\n",
       "<p>871 rows × 6 columns</p>\n",
       "</div>"
      ],
      "text/plain": [
       "    state                city  count        lat        long         dist\n",
       "674    OH             Sunbury     55  40.252194  -82.889044   477.755311\n",
       "607    OH           Berkshire      2  40.267724  -82.924730   478.171293\n",
       "608    OH  Berkshire Township      2  40.260521  -82.925710   478.862954\n",
       "650    OH           Johnstown     18  40.142272  -82.712272   479.070116\n",
       "636    OH              Galena     15  40.211070  -82.905456   482.266699\n",
       "..    ...                 ...    ...        ...         ...          ...\n",
       "711    OR            Hillsbor      1  45.534892 -122.863234  3407.627212\n",
       "708    OR           HILLSBORO      1  45.539960 -122.868184  3407.883305\n",
       "750    OR            Sherwood      5  45.395781 -122.823625  3407.948088\n",
       "712    OR           Hillsboro    323  45.536856 -122.877859  3408.693193\n",
       "691    OR               Aloha    152  45.492802 -122.868816  3409.056170\n",
       "\n",
       "[871 rows x 6 columns]"
      ]
     },
     "execution_count": 41,
     "metadata": {},
     "output_type": "execute_result"
    }
   ],
   "source": [
    "a.sort_values('dist')"
   ]
  },
  {
   "cell_type": "code",
   "execution_count": null,
   "id": "confused-grammar",
   "metadata": {},
   "outputs": [],
   "source": []
  }
 ],
 "metadata": {
  "kernelspec": {
   "display_name": "Python 3",
   "language": "python",
   "name": "python3"
  },
  "language_info": {
   "codemirror_mode": {
    "name": "ipython",
    "version": 3
   },
   "file_extension": ".py",
   "mimetype": "text/x-python",
   "name": "python",
   "nbconvert_exporter": "python",
   "pygments_lexer": "ipython3",
   "version": "3.6.8"
  }
 },
 "nbformat": 4,
 "nbformat_minor": 5
}
