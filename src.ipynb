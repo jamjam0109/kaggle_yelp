{
 "cells": [
  {
   "cell_type": "code",
   "execution_count": 307,
   "id": "inappropriate-fossil",
   "metadata": {},
   "outputs": [],
   "source": [
    "import warnings \n",
    "import utils as ut \n",
    "import pandas as pd\n",
    "import seaborn as sns \n",
    "import matplotlib.pyplot as plt\n",
    "from haversine import haversine\n",
    "from collections import Counter\n",
    "\n",
    "warnings.filterwarnings(action='ignore') "
   ]
  },
  {
   "cell_type": "code",
   "execution_count": 2,
   "id": "lasting-reggae",
   "metadata": {},
   "outputs": [],
   "source": [
    "business = pd.read_json('./data/yelp_academic_dataset_business.json', lines=True)\n",
    "checkin = pd.read_json('./data/yelp_academic_dataset_checkin.json', lines=True)"
   ]
  },
  {
   "cell_type": "markdown",
   "id": "confident-junction",
   "metadata": {},
   "source": [
    "### Q1. 2019년 온타리오 주(state = ON)에서 별점이 3.0 이상인 레스토랑 중 체크인이 가장 많은 top 10의 레스토랑명을 내림차순으로 나열하세요."
   ]
  },
  {
   "cell_type": "markdown",
   "id": "scientific-administration",
   "metadata": {},
   "source": [
    "### Answer\n",
    "온타리오 주에서 별점이 3.0 이상인 레스토랑은 없습니다.\n",
    "\n",
    "레스토랑이 아닌 Bernie Hipos Wedding Films라는 Event Planning & Service 가게가 있으나, 해당 가게의 체크인 결과가 없습니다.\n",
    "\n",
    "따라서 해당 문제의 결과를 출력할 수 없습니다."
   ]
  },
  {
   "cell_type": "code",
   "execution_count": 170,
   "id": "informed-captain",
   "metadata": {},
   "outputs": [
    {
     "data": {
      "text/html": [
       "<div>\n",
       "<style scoped>\n",
       "    .dataframe tbody tr th:only-of-type {\n",
       "        vertical-align: middle;\n",
       "    }\n",
       "\n",
       "    .dataframe tbody tr th {\n",
       "        vertical-align: top;\n",
       "    }\n",
       "\n",
       "    .dataframe thead th {\n",
       "        text-align: right;\n",
       "    }\n",
       "</style>\n",
       "<table border=\"1\" class=\"dataframe\">\n",
       "  <thead>\n",
       "    <tr style=\"text-align: right;\">\n",
       "      <th></th>\n",
       "      <th>business_id</th>\n",
       "      <th>name</th>\n",
       "      <th>state</th>\n",
       "      <th>stars</th>\n",
       "      <th>categories</th>\n",
       "    </tr>\n",
       "  </thead>\n",
       "  <tbody>\n",
       "    <tr>\n",
       "      <th>52167</th>\n",
       "      <td>9fJ7gK8SaNvoe0AP_JXZiw</td>\n",
       "      <td>Bernie Hipos Wedding Films</td>\n",
       "      <td>ON</td>\n",
       "      <td>5.0</td>\n",
       "      <td>Event Planning &amp; Services, Videographers, Prof...</td>\n",
       "    </tr>\n",
       "  </tbody>\n",
       "</table>\n",
       "</div>"
      ],
      "text/plain": [
       "                  business_id                        name state  stars  \\\n",
       "52167  9fJ7gK8SaNvoe0AP_JXZiw  Bernie Hipos Wedding Films    ON    5.0   \n",
       "\n",
       "                                              categories  \n",
       "52167  Event Planning & Services, Videographers, Prof...  "
      ]
     },
     "execution_count": 170,
     "metadata": {},
     "output_type": "execute_result"
    }
   ],
   "source": [
    "state_on = business.query(\"state == 'ON' and stars >= 3\")[['business_id', 'name', 'state', 'stars', 'categories']]\n",
    "state_on"
   ]
  },
  {
   "cell_type": "code",
   "execution_count": 171,
   "id": "three-dallas",
   "metadata": {},
   "outputs": [
    {
     "data": {
      "text/html": [
       "<div>\n",
       "<style scoped>\n",
       "    .dataframe tbody tr th:only-of-type {\n",
       "        vertical-align: middle;\n",
       "    }\n",
       "\n",
       "    .dataframe tbody tr th {\n",
       "        vertical-align: top;\n",
       "    }\n",
       "\n",
       "    .dataframe thead th {\n",
       "        text-align: right;\n",
       "    }\n",
       "</style>\n",
       "<table border=\"1\" class=\"dataframe\">\n",
       "  <thead>\n",
       "    <tr style=\"text-align: right;\">\n",
       "      <th></th>\n",
       "      <th>business_id</th>\n",
       "      <th>name</th>\n",
       "      <th>state</th>\n",
       "      <th>stars</th>\n",
       "      <th>categories</th>\n",
       "      <th>date</th>\n",
       "    </tr>\n",
       "  </thead>\n",
       "  <tbody>\n",
       "    <tr>\n",
       "      <th>0</th>\n",
       "      <td>9fJ7gK8SaNvoe0AP_JXZiw</td>\n",
       "      <td>Bernie Hipos Wedding Films</td>\n",
       "      <td>ON</td>\n",
       "      <td>5.0</td>\n",
       "      <td>Event Planning &amp; Services, Videographers, Prof...</td>\n",
       "      <td>NaN</td>\n",
       "    </tr>\n",
       "  </tbody>\n",
       "</table>\n",
       "</div>"
      ],
      "text/plain": [
       "              business_id                        name state  stars  \\\n",
       "0  9fJ7gK8SaNvoe0AP_JXZiw  Bernie Hipos Wedding Films    ON    5.0   \n",
       "\n",
       "                                          categories date  \n",
       "0  Event Planning & Services, Videographers, Prof...  NaN  "
      ]
     },
     "execution_count": 171,
     "metadata": {},
     "output_type": "execute_result"
    }
   ],
   "source": [
    "state_on.merge(checkin, how='left')"
   ]
  },
  {
   "cell_type": "markdown",
   "id": "french-architecture",
   "metadata": {},
   "source": [
    "Q1의 결과를 얻기 위한 함수를 작성합니다."
   ]
  },
  {
   "cell_type": "code",
   "execution_count": 318,
   "id": "diverse-fundamental",
   "metadata": {},
   "outputs": [],
   "source": [
    "def get_year(df, year):\n",
    "    return df.date.count(year)\n",
    "\n",
    "def q1_fn(year, state, stars, category, top_n=10):\n",
    "    filter_category = business[business['categories'].str.contains(f'{category}', na=False, case=False)]\n",
    "    filter_business = filter_category.query(f\"state == '{state}' and stars >= {stars}\")[['business_id', 'name', 'state', 'city', 'stars', 'categories']]\n",
    "\n",
    "    year_count = checkin.apply(get_year, year=f'{year}', axis=1)\n",
    "\n",
    "    checkin_year = pd.concat([checkin['business_id'], year_count], axis=1).rename(columns={0: 'checkin'})\n",
    "\n",
    "    business_checkin = filter_business.merge(checkin_year)\n",
    "    output = business_checkin.sort_values(['checkin', 'stars'], ascending=False, ignore_index=True).head(top_n)\n",
    "\n",
    "    return output"
   ]
  },
  {
   "cell_type": "markdown",
   "id": "sized-traveler",
   "metadata": {},
   "source": [
    "타 지역(state=MA)의 경우 아래와 같은 결과를 갖고 올 수 있습니다."
   ]
  },
  {
   "cell_type": "code",
   "execution_count": 174,
   "id": "understood-minority",
   "metadata": {},
   "outputs": [
    {
     "data": {
      "text/html": [
       "<div>\n",
       "<style scoped>\n",
       "    .dataframe tbody tr th:only-of-type {\n",
       "        vertical-align: middle;\n",
       "    }\n",
       "\n",
       "    .dataframe tbody tr th {\n",
       "        vertical-align: top;\n",
       "    }\n",
       "\n",
       "    .dataframe thead th {\n",
       "        text-align: right;\n",
       "    }\n",
       "</style>\n",
       "<table border=\"1\" class=\"dataframe\">\n",
       "  <thead>\n",
       "    <tr style=\"text-align: right;\">\n",
       "      <th></th>\n",
       "      <th>business_id</th>\n",
       "      <th>name</th>\n",
       "      <th>state</th>\n",
       "      <th>stars</th>\n",
       "      <th>categories</th>\n",
       "      <th>checkin</th>\n",
       "    </tr>\n",
       "  </thead>\n",
       "  <tbody>\n",
       "    <tr>\n",
       "      <th>0</th>\n",
       "      <td>aVCqrBqMqZaapyVrVNnZJQ</td>\n",
       "      <td>Beard Papa's</td>\n",
       "      <td>MA</td>\n",
       "      <td>4.0</td>\n",
       "      <td>Restaurants, Japanese, Bakeries, Food, Desserts</td>\n",
       "      <td>1127</td>\n",
       "    </tr>\n",
       "    <tr>\n",
       "      <th>1</th>\n",
       "      <td>PrsvO1rzkgg6qFizlAoEtg</td>\n",
       "      <td>Mike's Pastry</td>\n",
       "      <td>MA</td>\n",
       "      <td>4.0</td>\n",
       "      <td>Candy Stores, Gelato, Food, Coffee &amp; Tea, Rest...</td>\n",
       "      <td>951</td>\n",
       "    </tr>\n",
       "    <tr>\n",
       "      <th>2</th>\n",
       "      <td>xlOMKjE4omTgkI1eduWj8A</td>\n",
       "      <td>The Friendly Toast</td>\n",
       "      <td>MA</td>\n",
       "      <td>4.0</td>\n",
       "      <td>Nightlife, Diners, Bars, Breakfast &amp; Brunch, R...</td>\n",
       "      <td>821</td>\n",
       "    </tr>\n",
       "    <tr>\n",
       "      <th>3</th>\n",
       "      <td>_LUnyOwSpo8N5783rceT5Q</td>\n",
       "      <td>Taiyaki NYC - Boston</td>\n",
       "      <td>MA</td>\n",
       "      <td>4.0</td>\n",
       "      <td>Ice Cream &amp; Frozen Yogurt, Restaurants, Food, ...</td>\n",
       "      <td>758</td>\n",
       "    </tr>\n",
       "    <tr>\n",
       "      <th>4</th>\n",
       "      <td>1qwxzGRcU1y3tJrsoYQ4Rw</td>\n",
       "      <td>Picco Pizza &amp; Ice Cream</td>\n",
       "      <td>MA</td>\n",
       "      <td>4.0</td>\n",
       "      <td>Restaurants, Bars, Nightlife, Pizza, Italian, ...</td>\n",
       "      <td>645</td>\n",
       "    </tr>\n",
       "    <tr>\n",
       "      <th>5</th>\n",
       "      <td>y2w6rFaO0XEiG5mFfOsiFA</td>\n",
       "      <td>Neptune Oyster</td>\n",
       "      <td>MA</td>\n",
       "      <td>4.5</td>\n",
       "      <td>Arabian, Thai, American (Traditional), Live/Ra...</td>\n",
       "      <td>643</td>\n",
       "    </tr>\n",
       "    <tr>\n",
       "      <th>6</th>\n",
       "      <td>Q2dq9Eo1NMbD1k25Xx21TQ</td>\n",
       "      <td>Spring Shabu-Shabu</td>\n",
       "      <td>MA</td>\n",
       "      <td>4.5</td>\n",
       "      <td>Restaurants, Buffets, Japanese, Hot Pot, Seafood</td>\n",
       "      <td>537</td>\n",
       "    </tr>\n",
       "    <tr>\n",
       "      <th>7</th>\n",
       "      <td>mNjI-BGs-FMaZCdwgP_8uA</td>\n",
       "      <td>Santouka Harvard Square</td>\n",
       "      <td>MA</td>\n",
       "      <td>4.0</td>\n",
       "      <td>Soup, Ramen, Japanese, Noodles, Restaurants</td>\n",
       "      <td>510</td>\n",
       "    </tr>\n",
       "    <tr>\n",
       "      <th>8</th>\n",
       "      <td>nijacBMGySzM0sBsYYxUhQ</td>\n",
       "      <td>Punjabi Dhaba</td>\n",
       "      <td>MA</td>\n",
       "      <td>4.0</td>\n",
       "      <td>Pakistani, Restaurants, Indian, Caterers, Even...</td>\n",
       "      <td>471</td>\n",
       "    </tr>\n",
       "    <tr>\n",
       "      <th>9</th>\n",
       "      <td>kP1b-7BO_VhWk_0tvuA_tw</td>\n",
       "      <td>Carmelina's</td>\n",
       "      <td>MA</td>\n",
       "      <td>4.5</td>\n",
       "      <td>Vegetarian, Restaurants, Gluten-Free, Italian</td>\n",
       "      <td>469</td>\n",
       "    </tr>\n",
       "  </tbody>\n",
       "</table>\n",
       "</div>"
      ],
      "text/plain": [
       "              business_id                     name state  stars  \\\n",
       "0  aVCqrBqMqZaapyVrVNnZJQ             Beard Papa's    MA    4.0   \n",
       "1  PrsvO1rzkgg6qFizlAoEtg            Mike's Pastry    MA    4.0   \n",
       "2  xlOMKjE4omTgkI1eduWj8A       The Friendly Toast    MA    4.0   \n",
       "3  _LUnyOwSpo8N5783rceT5Q     Taiyaki NYC - Boston    MA    4.0   \n",
       "4  1qwxzGRcU1y3tJrsoYQ4Rw  Picco Pizza & Ice Cream    MA    4.0   \n",
       "5  y2w6rFaO0XEiG5mFfOsiFA           Neptune Oyster    MA    4.5   \n",
       "6  Q2dq9Eo1NMbD1k25Xx21TQ       Spring Shabu-Shabu    MA    4.5   \n",
       "7  mNjI-BGs-FMaZCdwgP_8uA  Santouka Harvard Square    MA    4.0   \n",
       "8  nijacBMGySzM0sBsYYxUhQ            Punjabi Dhaba    MA    4.0   \n",
       "9  kP1b-7BO_VhWk_0tvuA_tw              Carmelina's    MA    4.5   \n",
       "\n",
       "                                          categories  checkin  \n",
       "0    Restaurants, Japanese, Bakeries, Food, Desserts     1127  \n",
       "1  Candy Stores, Gelato, Food, Coffee & Tea, Rest...      951  \n",
       "2  Nightlife, Diners, Bars, Breakfast & Brunch, R...      821  \n",
       "3  Ice Cream & Frozen Yogurt, Restaurants, Food, ...      758  \n",
       "4  Restaurants, Bars, Nightlife, Pizza, Italian, ...      645  \n",
       "5  Arabian, Thai, American (Traditional), Live/Ra...      643  \n",
       "6   Restaurants, Buffets, Japanese, Hot Pot, Seafood      537  \n",
       "7        Soup, Ramen, Japanese, Noodles, Restaurants      510  \n",
       "8  Pakistani, Restaurants, Indian, Caterers, Even...      471  \n",
       "9      Vegetarian, Restaurants, Gluten-Free, Italian      469  "
      ]
     },
     "execution_count": 174,
     "metadata": {},
     "output_type": "execute_result"
    }
   ],
   "source": [
    "year = 2019\n",
    "state = 'MA'\n",
    "stars = 3 \n",
    "category = 'Restaurants'\n",
    "\n",
    "q1_fn(year, state, stars, category)"
   ]
  },
  {
   "cell_type": "markdown",
   "id": "certified-people",
   "metadata": {},
   "source": [
    "다른 조건 예시"
   ]
  },
  {
   "cell_type": "code",
   "execution_count": 326,
   "id": "conditional-mason",
   "metadata": {},
   "outputs": [
    {
     "data": {
      "text/html": [
       "<div>\n",
       "<style scoped>\n",
       "    .dataframe tbody tr th:only-of-type {\n",
       "        vertical-align: middle;\n",
       "    }\n",
       "\n",
       "    .dataframe tbody tr th {\n",
       "        vertical-align: top;\n",
       "    }\n",
       "\n",
       "    .dataframe thead th {\n",
       "        text-align: right;\n",
       "    }\n",
       "</style>\n",
       "<table border=\"1\" class=\"dataframe\">\n",
       "  <thead>\n",
       "    <tr style=\"text-align: right;\">\n",
       "      <th></th>\n",
       "      <th>business_id</th>\n",
       "      <th>name</th>\n",
       "      <th>state</th>\n",
       "      <th>city</th>\n",
       "      <th>stars</th>\n",
       "      <th>categories</th>\n",
       "      <th>checkin</th>\n",
       "    </tr>\n",
       "  </thead>\n",
       "  <tbody>\n",
       "    <tr>\n",
       "      <th>0</th>\n",
       "      <td>Ur7o-5FviIC9YmJqsGKR6A</td>\n",
       "      <td>Soro Soro Coffee &amp; Dessert</td>\n",
       "      <td>OR</td>\n",
       "      <td>Portland</td>\n",
       "      <td>4.5</td>\n",
       "      <td>Cafes, Korean, Coffee &amp; Tea, Desserts, Bakerie...</td>\n",
       "      <td>70</td>\n",
       "    </tr>\n",
       "    <tr>\n",
       "      <th>1</th>\n",
       "      <td>2DNuQq6VUHc0DVkSv8nvEA</td>\n",
       "      <td>Chimaek Town</td>\n",
       "      <td>OR</td>\n",
       "      <td>Portland</td>\n",
       "      <td>4.0</td>\n",
       "      <td>Food, Poke, Bars, Nightlife, Restaurants, Kore...</td>\n",
       "      <td>51</td>\n",
       "    </tr>\n",
       "    <tr>\n",
       "      <th>2</th>\n",
       "      <td>gMrYpQCNKF5BdfRgGSaY9Q</td>\n",
       "      <td>Bonchon Happy Valley</td>\n",
       "      <td>OR</td>\n",
       "      <td>Happy Valley</td>\n",
       "      <td>4.0</td>\n",
       "      <td>Chicken Wings, Asian Fusion, Korean, Restaurants</td>\n",
       "      <td>47</td>\n",
       "    </tr>\n",
       "    <tr>\n",
       "      <th>3</th>\n",
       "      <td>5Vrg_1JXv0B6pvkdLVxvnw</td>\n",
       "      <td>Kkoki Korean BBQ - Portland</td>\n",
       "      <td>OR</td>\n",
       "      <td>Portland</td>\n",
       "      <td>4.0</td>\n",
       "      <td>Barbeque, Korean, Restaurants</td>\n",
       "      <td>42</td>\n",
       "    </tr>\n",
       "    <tr>\n",
       "      <th>4</th>\n",
       "      <td>41Ua5_jFh1n2GEW4CW-Yuw</td>\n",
       "      <td>Spring Restaurant</td>\n",
       "      <td>OR</td>\n",
       "      <td>Beaverton</td>\n",
       "      <td>4.5</td>\n",
       "      <td>Korean, Restaurants</td>\n",
       "      <td>36</td>\n",
       "    </tr>\n",
       "    <tr>\n",
       "      <th>5</th>\n",
       "      <td>457rB-piltkliX81ApG5aw</td>\n",
       "      <td>The Bulgogi DuKuhBee Noodles</td>\n",
       "      <td>OR</td>\n",
       "      <td>Portland</td>\n",
       "      <td>4.5</td>\n",
       "      <td>Restaurants, Asian Fusion, Korean</td>\n",
       "      <td>30</td>\n",
       "    </tr>\n",
       "    <tr>\n",
       "      <th>6</th>\n",
       "      <td>tfBPmttYLeu9BAC2QHaokg</td>\n",
       "      <td>Honey Spicy Bowl</td>\n",
       "      <td>OR</td>\n",
       "      <td>Tigard</td>\n",
       "      <td>4.5</td>\n",
       "      <td>Restaurants, Korean, Japanese, Asian Fusion</td>\n",
       "      <td>30</td>\n",
       "    </tr>\n",
       "    <tr>\n",
       "      <th>7</th>\n",
       "      <td>jVP9O2VtMtKa_KfDYWXiOA</td>\n",
       "      <td>Ate-Oh-Ate</td>\n",
       "      <td>OR</td>\n",
       "      <td>Portland</td>\n",
       "      <td>4.0</td>\n",
       "      <td>Sandwiches, Hawaiian, Korean, Restaurants, Bur...</td>\n",
       "      <td>30</td>\n",
       "    </tr>\n",
       "    <tr>\n",
       "      <th>8</th>\n",
       "      <td>3vk3lqLx8Yevr_1bJ8xCXw</td>\n",
       "      <td>Kkoki Korean BBQ</td>\n",
       "      <td>OR</td>\n",
       "      <td>Beaverton</td>\n",
       "      <td>4.0</td>\n",
       "      <td>Restaurants, Korean, Barbeque</td>\n",
       "      <td>30</td>\n",
       "    </tr>\n",
       "    <tr>\n",
       "      <th>9</th>\n",
       "      <td>7m_Tj6xC5CjulQ-6Wucdpw</td>\n",
       "      <td>Bibi2go</td>\n",
       "      <td>OR</td>\n",
       "      <td>Portland</td>\n",
       "      <td>4.5</td>\n",
       "      <td>Restaurants, Asian Fusion, Korean, Vegetarian,...</td>\n",
       "      <td>29</td>\n",
       "    </tr>\n",
       "  </tbody>\n",
       "</table>\n",
       "</div>"
      ],
      "text/plain": [
       "              business_id                          name state          city  \\\n",
       "0  Ur7o-5FviIC9YmJqsGKR6A    Soro Soro Coffee & Dessert    OR      Portland   \n",
       "1  2DNuQq6VUHc0DVkSv8nvEA                  Chimaek Town    OR      Portland   \n",
       "2  gMrYpQCNKF5BdfRgGSaY9Q          Bonchon Happy Valley    OR  Happy Valley   \n",
       "3  5Vrg_1JXv0B6pvkdLVxvnw   Kkoki Korean BBQ - Portland    OR      Portland   \n",
       "4  41Ua5_jFh1n2GEW4CW-Yuw             Spring Restaurant    OR     Beaverton   \n",
       "5  457rB-piltkliX81ApG5aw  The Bulgogi DuKuhBee Noodles    OR      Portland   \n",
       "6  tfBPmttYLeu9BAC2QHaokg              Honey Spicy Bowl    OR        Tigard   \n",
       "7  jVP9O2VtMtKa_KfDYWXiOA                    Ate-Oh-Ate    OR      Portland   \n",
       "8  3vk3lqLx8Yevr_1bJ8xCXw              Kkoki Korean BBQ    OR     Beaverton   \n",
       "9  7m_Tj6xC5CjulQ-6Wucdpw                       Bibi2go    OR      Portland   \n",
       "\n",
       "   stars                                         categories  checkin  \n",
       "0    4.5  Cafes, Korean, Coffee & Tea, Desserts, Bakerie...       70  \n",
       "1    4.0  Food, Poke, Bars, Nightlife, Restaurants, Kore...       51  \n",
       "2    4.0   Chicken Wings, Asian Fusion, Korean, Restaurants       47  \n",
       "3    4.0                      Barbeque, Korean, Restaurants       42  \n",
       "4    4.5                                Korean, Restaurants       36  \n",
       "5    4.5                  Restaurants, Asian Fusion, Korean       30  \n",
       "6    4.5        Restaurants, Korean, Japanese, Asian Fusion       30  \n",
       "7    4.0  Sandwiches, Hawaiian, Korean, Restaurants, Bur...       30  \n",
       "8    4.0                      Restaurants, Korean, Barbeque       30  \n",
       "9    4.5  Restaurants, Asian Fusion, Korean, Vegetarian,...       29  "
      ]
     },
     "execution_count": 326,
     "metadata": {},
     "output_type": "execute_result"
    }
   ],
   "source": [
    "year = 2020\n",
    "state = 'OR'\n",
    "stars = 4 \n",
    "category = 'korean'\n",
    "q1_fn(year, state, stars, category)"
   ]
  },
  {
   "cell_type": "markdown",
   "id": "egyptian-surveillance",
   "metadata": {},
   "source": [
    "### Q2. 토론토에서 피자 가게를 창업할 계획입니다. 다만, 24시간 영업을 해야할지 고민입니다. \n",
    "### 주어진 데이터로 24시간 영업의 타당성을 검증해 보세요. (가설을 증명하는데 필요한 정보나 상황은 자유롭게 가정하세요)"
   ]
  },
  {
   "cell_type": "markdown",
   "id": "advisory-giving",
   "metadata": {},
   "source": [
    "- 토론토 현황\n",
    "  - 토론토 데이터는 1개 뿐이며 해당 데이터의 카테고리가 음식과 무관하므로 활용하기 어렵다. \n",
    "  - 토론토와 가장 가까운 지역의 데이터를 확인하여 해당 지역 기준으로 가설을 검정한다."
   ]
  },
  {
   "cell_type": "code",
   "execution_count": 95,
   "id": "statistical-nashville",
   "metadata": {},
   "outputs": [
    {
     "data": {
      "text/html": [
       "<div>\n",
       "<style scoped>\n",
       "    .dataframe tbody tr th:only-of-type {\n",
       "        vertical-align: middle;\n",
       "    }\n",
       "\n",
       "    .dataframe tbody tr th {\n",
       "        vertical-align: top;\n",
       "    }\n",
       "\n",
       "    .dataframe thead th {\n",
       "        text-align: right;\n",
       "    }\n",
       "</style>\n",
       "<table border=\"1\" class=\"dataframe\">\n",
       "  <thead>\n",
       "    <tr style=\"text-align: right;\">\n",
       "      <th></th>\n",
       "      <th>business_id</th>\n",
       "      <th>name</th>\n",
       "      <th>address</th>\n",
       "      <th>city</th>\n",
       "      <th>state</th>\n",
       "      <th>postal_code</th>\n",
       "      <th>latitude</th>\n",
       "      <th>longitude</th>\n",
       "      <th>stars</th>\n",
       "      <th>review_count</th>\n",
       "      <th>is_open</th>\n",
       "      <th>attributes</th>\n",
       "      <th>categories</th>\n",
       "      <th>hours</th>\n",
       "    </tr>\n",
       "  </thead>\n",
       "  <tbody>\n",
       "    <tr>\n",
       "      <th>52167</th>\n",
       "      <td>9fJ7gK8SaNvoe0AP_JXZiw</td>\n",
       "      <td>Bernie Hipos Wedding Films</td>\n",
       "      <td></td>\n",
       "      <td>Toronto</td>\n",
       "      <td>ON</td>\n",
       "      <td>M5C 1T4</td>\n",
       "      <td>49.226695</td>\n",
       "      <td>-122.893603</td>\n",
       "      <td>5.0</td>\n",
       "      <td>7</td>\n",
       "      <td>1</td>\n",
       "      <td>None</td>\n",
       "      <td>Event Planning &amp; Services, Videographers, Prof...</td>\n",
       "      <td>{'Monday': '9:0-17:0', 'Tuesday': '9:0-17:0', ...</td>\n",
       "    </tr>\n",
       "  </tbody>\n",
       "</table>\n",
       "</div>"
      ],
      "text/plain": [
       "                  business_id                        name address     city  \\\n",
       "52167  9fJ7gK8SaNvoe0AP_JXZiw  Bernie Hipos Wedding Films          Toronto   \n",
       "\n",
       "      state postal_code   latitude   longitude  stars  review_count  is_open  \\\n",
       "52167    ON     M5C 1T4  49.226695 -122.893603    5.0             7        1   \n",
       "\n",
       "      attributes                                         categories  \\\n",
       "52167       None  Event Planning & Services, Videographers, Prof...   \n",
       "\n",
       "                                                   hours  \n",
       "52167  {'Monday': '9:0-17:0', 'Tuesday': '9:0-17:0', ...  "
      ]
     },
     "execution_count": 95,
     "metadata": {},
     "output_type": "execute_result"
    }
   ],
   "source": [
    "business.query(\"city == 'Toronto'\")"
   ]
  },
  {
   "cell_type": "code",
   "execution_count": 96,
   "id": "swedish-printer",
   "metadata": {},
   "outputs": [
    {
     "data": {
      "text/plain": [
       "['Event Planning & Services, Videographers, Professional Services, Video/Film Production']"
      ]
     },
     "execution_count": 96,
     "metadata": {},
     "output_type": "execute_result"
    }
   ],
   "source": [
    "business.query(\"city == 'Toronto'\")['categories'].tolist()"
   ]
  },
  {
   "cell_type": "markdown",
   "id": "verified-marks",
   "metadata": {},
   "source": [
    "- 그렇다면 토론토와 가장 가까운 지역을 찾아보자 "
   ]
  },
  {
   "cell_type": "code",
   "execution_count": 97,
   "id": "killing-difficulty",
   "metadata": {},
   "outputs": [],
   "source": [
    "toronto_lat = business.query(\"city == 'Toronto'\")['latitude'].tolist()[0]\n",
    "toronto_long = business.query(\"city == 'Toronto'\")['longitude'].tolist()[0]\n",
    "toronto = (toronto_lat, toronto_long)"
   ]
  },
  {
   "cell_type": "code",
   "execution_count": 98,
   "id": "beautiful-member",
   "metadata": {},
   "outputs": [],
   "source": [
    "l = list()\n",
    "for x in range(len(business)): \n",
    "    lat = business.iloc[x, :]['latitude']\n",
    "    long = business.iloc[x, :]['longitude']\n",
    "    \n",
    "    site = (lat, long)\n",
    "    \n",
    "    dist = haversine(toronto, site)\n",
    "    l.append(dist)"
   ]
  },
  {
   "cell_type": "code",
   "execution_count": 99,
   "id": "black-merchandise",
   "metadata": {},
   "outputs": [],
   "source": [
    "business['dist_by_toronto'] = l"
   ]
  },
  {
   "cell_type": "markdown",
   "id": "oriented-cinema",
   "metadata": {},
   "source": [
    "- Toronto와 가장 가까운 지역은 state=BC, city=New Westminster 이다."
   ]
  },
  {
   "cell_type": "code",
   "execution_count": 142,
   "id": "mobile-catalog",
   "metadata": {},
   "outputs": [
    {
     "data": {
      "text/html": [
       "<div>\n",
       "<style scoped>\n",
       "    .dataframe tbody tr th:only-of-type {\n",
       "        vertical-align: middle;\n",
       "    }\n",
       "\n",
       "    .dataframe tbody tr th {\n",
       "        vertical-align: top;\n",
       "    }\n",
       "\n",
       "    .dataframe thead th {\n",
       "        text-align: right;\n",
       "    }\n",
       "</style>\n",
       "<table border=\"1\" class=\"dataframe\">\n",
       "  <thead>\n",
       "    <tr style=\"text-align: right;\">\n",
       "      <th></th>\n",
       "      <th>state</th>\n",
       "      <th>city</th>\n",
       "      <th>dist_by_toronto</th>\n",
       "    </tr>\n",
       "  </thead>\n",
       "  <tbody>\n",
       "    <tr>\n",
       "      <th>52167</th>\n",
       "      <td>ON</td>\n",
       "      <td>Toronto</td>\n",
       "      <td>0.000000</td>\n",
       "    </tr>\n",
       "    <tr>\n",
       "      <th>158471</th>\n",
       "      <td>BC</td>\n",
       "      <td>New Westminster</td>\n",
       "      <td>0.042951</td>\n",
       "    </tr>\n",
       "    <tr>\n",
       "      <th>105210</th>\n",
       "      <td>BC</td>\n",
       "      <td>New Westminster</td>\n",
       "      <td>0.098927</td>\n",
       "    </tr>\n",
       "    <tr>\n",
       "      <th>91530</th>\n",
       "      <td>BC</td>\n",
       "      <td>New Westminster</td>\n",
       "      <td>0.104565</td>\n",
       "    </tr>\n",
       "    <tr>\n",
       "      <th>123040</th>\n",
       "      <td>BC</td>\n",
       "      <td>New Westminster</td>\n",
       "      <td>0.184712</td>\n",
       "    </tr>\n",
       "    <tr>\n",
       "      <th>99043</th>\n",
       "      <td>BC</td>\n",
       "      <td>New Westminster</td>\n",
       "      <td>0.200516</td>\n",
       "    </tr>\n",
       "    <tr>\n",
       "      <th>77686</th>\n",
       "      <td>BC</td>\n",
       "      <td>New Westminster</td>\n",
       "      <td>0.205705</td>\n",
       "    </tr>\n",
       "    <tr>\n",
       "      <th>150538</th>\n",
       "      <td>BC</td>\n",
       "      <td>New Westminister</td>\n",
       "      <td>0.238824</td>\n",
       "    </tr>\n",
       "    <tr>\n",
       "      <th>95643</th>\n",
       "      <td>BC</td>\n",
       "      <td>New Westminster</td>\n",
       "      <td>0.247310</td>\n",
       "    </tr>\n",
       "    <tr>\n",
       "      <th>102458</th>\n",
       "      <td>BC</td>\n",
       "      <td>New Westminster</td>\n",
       "      <td>0.249582</td>\n",
       "    </tr>\n",
       "  </tbody>\n",
       "</table>\n",
       "</div>"
      ],
      "text/plain": [
       "       state              city  dist_by_toronto\n",
       "52167     ON           Toronto         0.000000\n",
       "158471    BC   New Westminster         0.042951\n",
       "105210    BC   New Westminster         0.098927\n",
       "91530     BC   New Westminster         0.104565\n",
       "123040    BC   New Westminster         0.184712\n",
       "99043     BC   New Westminster         0.200516\n",
       "77686     BC   New Westminster         0.205705\n",
       "150538    BC  New Westminister         0.238824\n",
       "95643     BC   New Westminster         0.247310\n",
       "102458    BC   New Westminster         0.249582"
      ]
     },
     "execution_count": 142,
     "metadata": {},
     "output_type": "execute_result"
    }
   ],
   "source": [
    "business.sort_values('dist_by_toronto')[['state', 'city', 'dist_by_toronto']].head(10)"
   ]
  },
  {
   "cell_type": "code",
   "execution_count": 146,
   "id": "indirect-fireplace",
   "metadata": {},
   "outputs": [
    {
     "data": {
      "text/html": [
       "<div>\n",
       "<style scoped>\n",
       "    .dataframe tbody tr th:only-of-type {\n",
       "        vertical-align: middle;\n",
       "    }\n",
       "\n",
       "    .dataframe tbody tr th {\n",
       "        vertical-align: top;\n",
       "    }\n",
       "\n",
       "    .dataframe thead th {\n",
       "        text-align: right;\n",
       "    }\n",
       "</style>\n",
       "<table border=\"1\" class=\"dataframe\">\n",
       "  <thead>\n",
       "    <tr style=\"text-align: right;\">\n",
       "      <th></th>\n",
       "      <th>state</th>\n",
       "      <th>city</th>\n",
       "      <th>dist_by_toronto</th>\n",
       "    </tr>\n",
       "  </thead>\n",
       "  <tbody>\n",
       "    <tr>\n",
       "      <th>690</th>\n",
       "      <td>ON</td>\n",
       "      <td>Toronto</td>\n",
       "      <td>0.000000</td>\n",
       "    </tr>\n",
       "    <tr>\n",
       "      <th>25</th>\n",
       "      <td>BC</td>\n",
       "      <td>NEW WESTMINSTER</td>\n",
       "      <td>0.572046</td>\n",
       "    </tr>\n",
       "    <tr>\n",
       "      <th>53</th>\n",
       "      <td>BC</td>\n",
       "      <td>burnaby</td>\n",
       "      <td>1.043494</td>\n",
       "    </tr>\n",
       "    <tr>\n",
       "      <th>23</th>\n",
       "      <td>BC</td>\n",
       "      <td>Lougheed</td>\n",
       "      <td>1.828187</td>\n",
       "    </tr>\n",
       "    <tr>\n",
       "      <th>27</th>\n",
       "      <td>BC</td>\n",
       "      <td>New Westminister</td>\n",
       "      <td>2.115766</td>\n",
       "    </tr>\n",
       "    <tr>\n",
       "      <th>...</th>\n",
       "      <td>...</td>\n",
       "      <td>...</td>\n",
       "      <td>...</td>\n",
       "    </tr>\n",
       "    <tr>\n",
       "      <th>124</th>\n",
       "      <td>FL</td>\n",
       "      <td>Cocoa</td>\n",
       "      <td>4245.531904</td>\n",
       "    </tr>\n",
       "    <tr>\n",
       "      <th>169</th>\n",
       "      <td>FL</td>\n",
       "      <td>Merrit Island</td>\n",
       "      <td>4248.970614</td>\n",
       "    </tr>\n",
       "    <tr>\n",
       "      <th>170</th>\n",
       "      <td>FL</td>\n",
       "      <td>Merritt Island</td>\n",
       "      <td>4249.334508</td>\n",
       "    </tr>\n",
       "    <tr>\n",
       "      <th>209</th>\n",
       "      <td>FL</td>\n",
       "      <td>Rockledge</td>\n",
       "      <td>4250.120719</td>\n",
       "    </tr>\n",
       "    <tr>\n",
       "      <th>201</th>\n",
       "      <td>FL</td>\n",
       "      <td>Palm Bay</td>\n",
       "      <td>4283.301508</td>\n",
       "    </tr>\n",
       "  </tbody>\n",
       "</table>\n",
       "<p>871 rows × 3 columns</p>\n",
       "</div>"
      ],
      "text/plain": [
       "    state              city  dist_by_toronto\n",
       "690    ON           Toronto         0.000000\n",
       "25     BC   NEW WESTMINSTER         0.572046\n",
       "53     BC           burnaby         1.043494\n",
       "23     BC          Lougheed         1.828187\n",
       "27     BC  New Westminister         2.115766\n",
       "..    ...               ...              ...\n",
       "124    FL             Cocoa      4245.531904\n",
       "169    FL     Merrit Island      4248.970614\n",
       "170    FL    Merritt Island      4249.334508\n",
       "209    FL         Rockledge      4250.120719\n",
       "201    FL          Palm Bay      4283.301508\n",
       "\n",
       "[871 rows x 3 columns]"
      ]
     },
     "execution_count": 146,
     "metadata": {},
     "output_type": "execute_result"
    }
   ],
   "source": [
    "business.groupby(['state', 'city'], as_index=False)['dist_by_toronto'].mean().sort_values('dist_by_toronto')"
   ]
  },
  {
   "cell_type": "markdown",
   "id": "first-crossing",
   "metadata": {},
   "source": [
    "- New Westminster지역확인\n",
    "  - 총 데이터는 522개\n",
    "  - 'restaurants' 데이터는 232개\n",
    "  - 'pizza' 데이터는 21개"
   ]
  },
  {
   "cell_type": "code",
   "execution_count": 112,
   "id": "joint-collapse",
   "metadata": {},
   "outputs": [
    {
     "data": {
      "text/plain": [
       "522"
      ]
     },
     "execution_count": 112,
     "metadata": {},
     "output_type": "execute_result"
    }
   ],
   "source": [
    "new_westminster = business.query(\"state == 'BC' and city == 'New Westminster'\")\n",
    "len(new_westminster)"
   ]
  },
  {
   "cell_type": "code",
   "execution_count": 123,
   "id": "postal-seattle",
   "metadata": {},
   "outputs": [
    {
     "data": {
      "text/plain": [
       "232"
      ]
     },
     "execution_count": 123,
     "metadata": {},
     "output_type": "execute_result"
    }
   ],
   "source": [
    "new_westminster_restaurants = new_westminster[new_westminster['categories'].str.contains('restaurants', na=False, case=False)]\n",
    "len(new_westminster_restaurants)"
   ]
  },
  {
   "cell_type": "code",
   "execution_count": 119,
   "id": "statistical-sight",
   "metadata": {},
   "outputs": [
    {
     "data": {
      "text/plain": [
       "21"
      ]
     },
     "execution_count": 119,
     "metadata": {},
     "output_type": "execute_result"
    }
   ],
   "source": [
    "new_westminster_pizza = new_westminster[new_westminster['categories'].str.contains('pizza', na=False, case=False)]\n",
    "len(new_westminster_pizza)"
   ]
  },
  {
   "cell_type": "markdown",
   "id": "immediate-canada",
   "metadata": {},
   "source": [
    "- 24시간 운영(hours == '0:0-0:0')하는 식당 또는 피자집이 있는지 알아보자\n",
    "  - 식당: 18곳 존재\n",
    "  - 피자집: 없음"
   ]
  },
  {
   "cell_type": "code",
   "execution_count": 199,
   "id": "important-hanging",
   "metadata": {},
   "outputs": [
    {
     "data": {
      "text/plain": [
       "18"
      ]
     },
     "execution_count": 199,
     "metadata": {},
     "output_type": "execute_result"
    }
   ],
   "source": [
    "new_westminster_restaurants['hours'] = new_westminster_restaurants['hours'].astype('str') \n",
    "new_westminster_restaurants_24hrs = new_westminster_restaurants[new_westminster_restaurants['hours'].str.contains(\"0:0-0:0\", na=False, case=False)]\n",
    "\n",
    "len(new_westminster_restaurants_24hrs)"
   ]
  },
  {
   "cell_type": "code",
   "execution_count": 200,
   "id": "sealed-buying",
   "metadata": {},
   "outputs": [
    {
     "data": {
      "text/html": [
       "<div>\n",
       "<style scoped>\n",
       "    .dataframe tbody tr th:only-of-type {\n",
       "        vertical-align: middle;\n",
       "    }\n",
       "\n",
       "    .dataframe tbody tr th {\n",
       "        vertical-align: top;\n",
       "    }\n",
       "\n",
       "    .dataframe thead th {\n",
       "        text-align: right;\n",
       "    }\n",
       "</style>\n",
       "<table border=\"1\" class=\"dataframe\">\n",
       "  <thead>\n",
       "    <tr style=\"text-align: right;\">\n",
       "      <th></th>\n",
       "      <th>business_id</th>\n",
       "      <th>name</th>\n",
       "      <th>address</th>\n",
       "      <th>city</th>\n",
       "      <th>state</th>\n",
       "      <th>postal_code</th>\n",
       "      <th>latitude</th>\n",
       "      <th>longitude</th>\n",
       "      <th>stars</th>\n",
       "      <th>review_count</th>\n",
       "      <th>is_open</th>\n",
       "      <th>attributes</th>\n",
       "      <th>categories</th>\n",
       "      <th>hours</th>\n",
       "      <th>dist_by_toronto</th>\n",
       "    </tr>\n",
       "  </thead>\n",
       "  <tbody>\n",
       "  </tbody>\n",
       "</table>\n",
       "</div>"
      ],
      "text/plain": [
       "Empty DataFrame\n",
       "Columns: [business_id, name, address, city, state, postal_code, latitude, longitude, stars, review_count, is_open, attributes, categories, hours, dist_by_toronto]\n",
       "Index: []"
      ]
     },
     "execution_count": 200,
     "metadata": {},
     "output_type": "execute_result"
    }
   ],
   "source": [
    "new_westminster_pizza[new_westminster_pizza['hours'].str.contains(\"0:0-0:0\", na=False, case=False)]"
   ]
  },
  {
   "cell_type": "markdown",
   "id": "facial-chamber",
   "metadata": {},
   "source": [
    "24시간으로 운영되는 식당은 주로 어떤 곳인가\n",
    "  - Sandwiches(6건)\n",
    "  - Breakfast&Brunch(6건)\n",
    "  - Cafes(6건)"
   ]
  },
  {
   "cell_type": "code",
   "execution_count": 202,
   "id": "color-touch",
   "metadata": {},
   "outputs": [
    {
     "data": {
      "text/plain": [
       "[('Restaurants', 18),\n",
       " ('Sandwiches', 6),\n",
       " ('Breakfast&Brunch', 6),\n",
       " ('Food', 6),\n",
       " ('Cafes', 5),\n",
       " ('Coffee&Tea', 5),\n",
       " ('Nightlife', 4),\n",
       " ('Caterers', 3),\n",
       " ('EventPlanning&Services', 3),\n",
       " ('Bars', 3)]"
      ]
     },
     "execution_count": 202,
     "metadata": {},
     "output_type": "execute_result"
    }
   ],
   "source": [
    "cateogries_24hrs = new_westminster_restaurants_24hrs.categories.tolist()\n",
    "cateogries_24hrs = ','.join(cateogries_24hrs)\n",
    "cateogries_24hrs = cateogries_24hrs.split(\",\")\n",
    "\n",
    "output = list()\n",
    "for category in cateogries_24hrs:\n",
    "    output.append(category.replace(' ', ''))\n",
    "    \n",
    "Counter(output).most_common()[:10]"
   ]
  },
  {
   "cell_type": "markdown",
   "id": "transsexual-maria",
   "metadata": {},
   "source": [
    "- 피자집의 운영시간을 확인해보자(21곳)\n",
    "  - 운영시간 데이터가 존재하는 피자집: 18곳\n",
    "  - 매일 운영하는 피자집: 15곳\n",
    "    - 주 6회: 2곳(월요일 휴무)\n",
    "    - 주 5회: 1곳(일, 월 휴무)"
   ]
  },
  {
   "cell_type": "code",
   "execution_count": 242,
   "id": "exotic-security",
   "metadata": {},
   "outputs": [],
   "source": [
    "pizza_hours = new_westminster_pizza.query(\"hours == hours\")[['business_id', 'name', 'hours']]\n",
    "\n",
    "output = pd.DataFrame()\n",
    "\n",
    "for i in range(len(pizza_hours)):\n",
    "    row = pizza_hours.iloc[i, :]\n",
    "    \n",
    "    business_id = row['business_id']\n",
    "    name = row['name']\n",
    "    hours = row['hours']\n",
    "    result = pd.DataFrame.from_dict(hours, orient='index', columns=['hours'])    \n",
    "    result = result.reset_index()\n",
    "    result['business_id'] = business_id  \n",
    "    result['name'] = name      \n",
    "\n",
    "    result = result.rename(columns={'index': 'day_of_week'})\n",
    "    result = result[['business_id', 'name', 'day_of_week', 'hours']]\n",
    "    \n",
    "    output = pd.concat([output, result], axis=0)\n"
   ]
  },
  {
   "cell_type": "code",
   "execution_count": 244,
   "id": "hourly-temple",
   "metadata": {},
   "outputs": [
    {
     "data": {
      "text/plain": [
       "18"
      ]
     },
     "execution_count": 244,
     "metadata": {},
     "output_type": "execute_result"
    }
   ],
   "source": [
    "output.business_id.nunique()"
   ]
  },
  {
   "cell_type": "code",
   "execution_count": 249,
   "id": "known-camera",
   "metadata": {},
   "outputs": [
    {
     "data": {
      "text/html": [
       "<div>\n",
       "<style scoped>\n",
       "    .dataframe tbody tr th:only-of-type {\n",
       "        vertical-align: middle;\n",
       "    }\n",
       "\n",
       "    .dataframe tbody tr th {\n",
       "        vertical-align: top;\n",
       "    }\n",
       "\n",
       "    .dataframe thead th {\n",
       "        text-align: right;\n",
       "    }\n",
       "</style>\n",
       "<table border=\"1\" class=\"dataframe\">\n",
       "  <thead>\n",
       "    <tr style=\"text-align: right;\">\n",
       "      <th></th>\n",
       "      <th>business_id</th>\n",
       "      <th>name</th>\n",
       "    </tr>\n",
       "  </thead>\n",
       "  <tbody>\n",
       "    <tr>\n",
       "      <th>0</th>\n",
       "      <td>2qZNuZJ9WMRMwHqxjedXeA</td>\n",
       "      <td>7</td>\n",
       "    </tr>\n",
       "    <tr>\n",
       "      <th>1</th>\n",
       "      <td>3Vz24ABs_FlO6et9VXVgOw</td>\n",
       "      <td>7</td>\n",
       "    </tr>\n",
       "    <tr>\n",
       "      <th>16</th>\n",
       "      <td>yEUKZciaP08iiCb7Ii_ihA</td>\n",
       "      <td>7</td>\n",
       "    </tr>\n",
       "    <tr>\n",
       "      <th>14</th>\n",
       "      <td>w-VJz3Z5bABl9P-0HAbygg</td>\n",
       "      <td>7</td>\n",
       "    </tr>\n",
       "    <tr>\n",
       "      <th>13</th>\n",
       "      <td>u7unQd3WjA8m84hZW1QO5w</td>\n",
       "      <td>7</td>\n",
       "    </tr>\n",
       "    <tr>\n",
       "      <th>12</th>\n",
       "      <td>raAFYL7HNJbzSkwqPzdMYw</td>\n",
       "      <td>7</td>\n",
       "    </tr>\n",
       "    <tr>\n",
       "      <th>11</th>\n",
       "      <td>oBhoLZIBIvwvjRoUjEcanw</td>\n",
       "      <td>7</td>\n",
       "    </tr>\n",
       "    <tr>\n",
       "      <th>10</th>\n",
       "      <td>kqhHw_9KA30_RYk66mMbJA</td>\n",
       "      <td>7</td>\n",
       "    </tr>\n",
       "    <tr>\n",
       "      <th>9</th>\n",
       "      <td>b6mYGDUgl1PC5Bpfy6fc3A</td>\n",
       "      <td>7</td>\n",
       "    </tr>\n",
       "    <tr>\n",
       "      <th>8</th>\n",
       "      <td>_ljezoZ3vmsUmOYwZQuTXA</td>\n",
       "      <td>7</td>\n",
       "    </tr>\n",
       "    <tr>\n",
       "      <th>7</th>\n",
       "      <td>YlNsWTKsOMnbgUiOTXOf-w</td>\n",
       "      <td>7</td>\n",
       "    </tr>\n",
       "    <tr>\n",
       "      <th>6</th>\n",
       "      <td>WNB22S5RXuA9-No5ZcSTAw</td>\n",
       "      <td>7</td>\n",
       "    </tr>\n",
       "    <tr>\n",
       "      <th>3</th>\n",
       "      <td>AQDp8FVqa4Fp9wXK6l5H1A</td>\n",
       "      <td>7</td>\n",
       "    </tr>\n",
       "    <tr>\n",
       "      <th>2</th>\n",
       "      <td>5PbImb6dANokzsnklKwO9g</td>\n",
       "      <td>7</td>\n",
       "    </tr>\n",
       "    <tr>\n",
       "      <th>17</th>\n",
       "      <td>zP6DvBH5aQfbNJExytNsOA</td>\n",
       "      <td>7</td>\n",
       "    </tr>\n",
       "    <tr>\n",
       "      <th>5</th>\n",
       "      <td>W5ePvAu3X3QZiVyFZ1rDFw</td>\n",
       "      <td>6</td>\n",
       "    </tr>\n",
       "    <tr>\n",
       "      <th>15</th>\n",
       "      <td>w9M1XgNkrRATfyfBhx_Xbg</td>\n",
       "      <td>6</td>\n",
       "    </tr>\n",
       "    <tr>\n",
       "      <th>4</th>\n",
       "      <td>FSW1n1qy2XNcKAWET7oejw</td>\n",
       "      <td>5</td>\n",
       "    </tr>\n",
       "  </tbody>\n",
       "</table>\n",
       "</div>"
      ],
      "text/plain": [
       "               business_id  name\n",
       "0   2qZNuZJ9WMRMwHqxjedXeA     7\n",
       "1   3Vz24ABs_FlO6et9VXVgOw     7\n",
       "16  yEUKZciaP08iiCb7Ii_ihA     7\n",
       "14  w-VJz3Z5bABl9P-0HAbygg     7\n",
       "13  u7unQd3WjA8m84hZW1QO5w     7\n",
       "12  raAFYL7HNJbzSkwqPzdMYw     7\n",
       "11  oBhoLZIBIvwvjRoUjEcanw     7\n",
       "10  kqhHw_9KA30_RYk66mMbJA     7\n",
       "9   b6mYGDUgl1PC5Bpfy6fc3A     7\n",
       "8   _ljezoZ3vmsUmOYwZQuTXA     7\n",
       "7   YlNsWTKsOMnbgUiOTXOf-w     7\n",
       "6   WNB22S5RXuA9-No5ZcSTAw     7\n",
       "3   AQDp8FVqa4Fp9wXK6l5H1A     7\n",
       "2   5PbImb6dANokzsnklKwO9g     7\n",
       "17  zP6DvBH5aQfbNJExytNsOA     7\n",
       "5   W5ePvAu3X3QZiVyFZ1rDFw     6\n",
       "15  w9M1XgNkrRATfyfBhx_Xbg     6\n",
       "4   FSW1n1qy2XNcKAWET7oejw     5"
      ]
     },
     "execution_count": 249,
     "metadata": {},
     "output_type": "execute_result"
    }
   ],
   "source": [
    "output.groupby(['business_id'], as_index=False)['name'].count().sort_values('name', ascending=False)"
   ]
  },
  {
   "cell_type": "code",
   "execution_count": 263,
   "id": "banned-grill",
   "metadata": {},
   "outputs": [],
   "source": [
    "output['open'] = output.hours.str.split('-').str[0]\n",
    "output['close'] = output.hours.str.split('-').str[1]\n",
    "\n",
    "output['open'] = pd.to_datetime(output['open'], format='%H:%M').dt.hour\n",
    "output['close'] = pd.to_datetime(output['close'], format='%H:%M').dt.hour"
   ]
  },
  {
   "cell_type": "code",
   "execution_count": 313,
   "id": "referenced-florist",
   "metadata": {},
   "outputs": [
    {
     "data": {
      "text/plain": [
       "<seaborn.axisgrid.FacetGrid at 0x26cbfc2abe0>"
      ]
     },
     "execution_count": 313,
     "metadata": {},
     "output_type": "execute_result"
    },
    {
     "data": {
      "image/png": "[encoded data removed]",
      "text/plain": [
       "<Figure size 1512x216 with 7 Axes>"
      ]
     },
     "metadata": {
      "needs_background": "light"
     },
     "output_type": "display_data"
    }
   ],
   "source": [
    "x = output.groupby([\"day_of_week\", 'open'], as_index=False)['name'].count()\n",
    "\n",
    "g = sns.FacetGrid(\n",
    "    x, col=\"day_of_week\", height=3, aspect=1,\n",
    "    col_order=['Sunday', 'Monday', 'Tuesday', 'Wednesday', 'Thursday', 'Friday', 'Saturday']\n",
    ")\n",
    "g.map_dataframe(sns.barplot, x=\"open\", y=\"name\")\n",
    "g.set_axis_labels(\"open hour\")"
   ]
  },
  {
   "cell_type": "code",
   "execution_count": 311,
   "id": "spectacular-seating",
   "metadata": {},
   "outputs": [
    {
     "data": {
      "text/plain": [
       "<seaborn.axisgrid.FacetGrid at 0x26cbf8d7be0>"
      ]
     },
     "execution_count": 311,
     "metadata": {},
     "output_type": "execute_result"
    },
    {
     "data": {
      "image/png": "[encoded data removed]",
      "text/plain": [
       "<Figure size 1512x216 with 7 Axes>"
      ]
     },
     "metadata": {
      "needs_background": "light"
     },
     "output_type": "display_data"
    }
   ],
   "source": [
    "x = output.groupby([\"day_of_week\", 'close'], as_index=False)['name'].count()\n",
    "\n",
    "g = sns.FacetGrid(\n",
    "    x, col=\"day_of_week\", height=3, aspect=1,\n",
    "    col_order=['Sunday', 'Monday', 'Tuesday', 'Wednesday', 'Thursday', 'Friday', 'Saturday']\n",
    ")\n",
    "g.map_dataframe(sns.barplot, x=\"close\", y=\"name\")\n",
    "g.set_axis_labels(\"close hour\")"
   ]
  },
  {
   "cell_type": "code",
   "execution_count": 334,
   "id": "eleven-republican",
   "metadata": {},
   "outputs": [
    {
     "data": {
      "text/html": [
       "<div>\n",
       "<style scoped>\n",
       "    .dataframe tbody tr th:only-of-type {\n",
       "        vertical-align: middle;\n",
       "    }\n",
       "\n",
       "    .dataframe tbody tr th {\n",
       "        vertical-align: top;\n",
       "    }\n",
       "\n",
       "    .dataframe thead th {\n",
       "        text-align: right;\n",
       "    }\n",
       "</style>\n",
       "<table border=\"1\" class=\"dataframe\">\n",
       "  <thead>\n",
       "    <tr style=\"text-align: right;\">\n",
       "      <th></th>\n",
       "      <th>business_id</th>\n",
       "      <th>name</th>\n",
       "      <th>state</th>\n",
       "      <th>city</th>\n",
       "      <th>stars</th>\n",
       "      <th>categories</th>\n",
       "      <th>checkin</th>\n",
       "    </tr>\n",
       "  </thead>\n",
       "  <tbody>\n",
       "    <tr>\n",
       "      <th>9</th>\n",
       "      <td>5PbImb6dANokzsnklKwO9g</td>\n",
       "      <td>Pizza Garden New Westminster</td>\n",
       "      <td>BC</td>\n",
       "      <td>New Westminster</td>\n",
       "      <td>4.0</td>\n",
       "      <td>Pizza, Restaurants</td>\n",
       "      <td>33</td>\n",
       "    </tr>\n",
       "    <tr>\n",
       "      <th>65</th>\n",
       "      <td>w-VJz3Z5bABl9P-0HAbygg</td>\n",
       "      <td>Pizzeria Ludica</td>\n",
       "      <td>BC</td>\n",
       "      <td>New Westminster</td>\n",
       "      <td>3.5</td>\n",
       "      <td>Restaurants, Tabletop Games, Shopping, Italian...</td>\n",
       "      <td>10</td>\n",
       "    </tr>\n",
       "    <tr>\n",
       "      <th>150</th>\n",
       "      <td>AQDp8FVqa4Fp9wXK6l5H1A</td>\n",
       "      <td>Pizza Pizza</td>\n",
       "      <td>BC</td>\n",
       "      <td>New Westminster</td>\n",
       "      <td>3.0</td>\n",
       "      <td>Restaurants, Pizza, Gluten-Free</td>\n",
       "      <td>3</td>\n",
       "    </tr>\n",
       "    <tr>\n",
       "      <th>189</th>\n",
       "      <td>3Vz24ABs_FlO6et9VXVgOw</td>\n",
       "      <td>Papa Dave's Pizza</td>\n",
       "      <td>BC</td>\n",
       "      <td>New Westminster</td>\n",
       "      <td>3.0</td>\n",
       "      <td>Restaurants, Local Flavor, Pizza, Food</td>\n",
       "      <td>2</td>\n",
       "    </tr>\n",
       "    <tr>\n",
       "      <th>231</th>\n",
       "      <td>WNB22S5RXuA9-No5ZcSTAw</td>\n",
       "      <td>Gino's Restaurant</td>\n",
       "      <td>BC</td>\n",
       "      <td>New Westminster</td>\n",
       "      <td>3.5</td>\n",
       "      <td>Greek, Seafood, Italian, Restaurants, Pizza</td>\n",
       "      <td>1</td>\n",
       "    </tr>\n",
       "    <tr>\n",
       "      <th>248</th>\n",
       "      <td>GFPDDlWYNFqT9gycvzM5_w</td>\n",
       "      <td>Papa John's Pizza</td>\n",
       "      <td>BC</td>\n",
       "      <td>New Westminster</td>\n",
       "      <td>3.0</td>\n",
       "      <td>Pizza, Restaurants</td>\n",
       "      <td>1</td>\n",
       "    </tr>\n",
       "    <tr>\n",
       "      <th>259</th>\n",
       "      <td>FSW1n1qy2XNcKAWET7oejw</td>\n",
       "      <td>Kamini's Corner Cafe</td>\n",
       "      <td>BC</td>\n",
       "      <td>New Westminster</td>\n",
       "      <td>4.5</td>\n",
       "      <td>Desserts, Event Planning &amp; Services, Pizza, Br...</td>\n",
       "      <td>0</td>\n",
       "    </tr>\n",
       "    <tr>\n",
       "      <th>291</th>\n",
       "      <td>w9M1XgNkrRATfyfBhx_Xbg</td>\n",
       "      <td>Le Pizzo Bella</td>\n",
       "      <td>BC</td>\n",
       "      <td>New Westminster</td>\n",
       "      <td>4.0</td>\n",
       "      <td>Restaurants, Italian, Pizza</td>\n",
       "      <td>0</td>\n",
       "    </tr>\n",
       "    <tr>\n",
       "      <th>307</th>\n",
       "      <td>W5ePvAu3X3QZiVyFZ1rDFw</td>\n",
       "      <td>Royal Crown Pizza</td>\n",
       "      <td>BC</td>\n",
       "      <td>New Westminster</td>\n",
       "      <td>4.0</td>\n",
       "      <td>Restaurants, Pizza</td>\n",
       "      <td>0</td>\n",
       "    </tr>\n",
       "    <tr>\n",
       "      <th>348</th>\n",
       "      <td>_ljezoZ3vmsUmOYwZQuTXA</td>\n",
       "      <td>Queensboro Pizza</td>\n",
       "      <td>BC</td>\n",
       "      <td>New Westminster</td>\n",
       "      <td>3.5</td>\n",
       "      <td>Pizza, Restaurants</td>\n",
       "      <td>0</td>\n",
       "    </tr>\n",
       "    <tr>\n",
       "      <th>388</th>\n",
       "      <td>GSGSgFwwI26bBjm-FnjhmA</td>\n",
       "      <td>Aldo's Pasta Bar</td>\n",
       "      <td>BC</td>\n",
       "      <td>New Westminster</td>\n",
       "      <td>3.0</td>\n",
       "      <td>Pizza, Restaurants, Italian</td>\n",
       "      <td>0</td>\n",
       "    </tr>\n",
       "  </tbody>\n",
       "</table>\n",
       "</div>"
      ],
      "text/plain": [
       "                business_id                          name state  \\\n",
       "9    5PbImb6dANokzsnklKwO9g  Pizza Garden New Westminster    BC   \n",
       "65   w-VJz3Z5bABl9P-0HAbygg               Pizzeria Ludica    BC   \n",
       "150  AQDp8FVqa4Fp9wXK6l5H1A                   Pizza Pizza    BC   \n",
       "189  3Vz24ABs_FlO6et9VXVgOw             Papa Dave's Pizza    BC   \n",
       "231  WNB22S5RXuA9-No5ZcSTAw             Gino's Restaurant    BC   \n",
       "248  GFPDDlWYNFqT9gycvzM5_w             Papa John's Pizza    BC   \n",
       "259  FSW1n1qy2XNcKAWET7oejw          Kamini's Corner Cafe    BC   \n",
       "291  w9M1XgNkrRATfyfBhx_Xbg                Le Pizzo Bella    BC   \n",
       "307  W5ePvAu3X3QZiVyFZ1rDFw             Royal Crown Pizza    BC   \n",
       "348  _ljezoZ3vmsUmOYwZQuTXA              Queensboro Pizza    BC   \n",
       "388  GSGSgFwwI26bBjm-FnjhmA              Aldo's Pasta Bar    BC   \n",
       "\n",
       "                city  stars  \\\n",
       "9    New Westminster    4.0   \n",
       "65   New Westminster    3.5   \n",
       "150  New Westminster    3.0   \n",
       "189  New Westminster    3.0   \n",
       "231  New Westminster    3.5   \n",
       "248  New Westminster    3.0   \n",
       "259  New Westminster    4.5   \n",
       "291  New Westminster    4.0   \n",
       "307  New Westminster    4.0   \n",
       "348  New Westminster    3.5   \n",
       "388  New Westminster    3.0   \n",
       "\n",
       "                                            categories  checkin  \n",
       "9                                   Pizza, Restaurants       33  \n",
       "65   Restaurants, Tabletop Games, Shopping, Italian...       10  \n",
       "150                    Restaurants, Pizza, Gluten-Free        3  \n",
       "189             Restaurants, Local Flavor, Pizza, Food        2  \n",
       "231        Greek, Seafood, Italian, Restaurants, Pizza        1  \n",
       "248                                 Pizza, Restaurants        1  \n",
       "259  Desserts, Event Planning & Services, Pizza, Br...        0  \n",
       "291                        Restaurants, Italian, Pizza        0  \n",
       "307                                 Restaurants, Pizza        0  \n",
       "348                                 Pizza, Restaurants        0  \n",
       "388                        Pizza, Restaurants, Italian        0  "
      ]
     },
     "execution_count": 334,
     "metadata": {},
     "output_type": "execute_result"
    }
   ],
   "source": [
    "year = 2019\n",
    "state = 'BC'\n",
    "stars = 3 \n",
    "category = 'pizza'\n",
    "\n",
    "q1_fn(year, state, stars, category, 500).query(\"city == 'New Westminster'\")"
   ]
  }
 ],
 "metadata": {
  "kernelspec": {
   "display_name": "Python 3",
   "language": "python",
   "name": "python3"
  },
  "language_info": {
   "codemirror_mode": {
    "name": "ipython",
    "version": 3
   },
   "file_extension": ".py",
   "mimetype": "text/x-python",
   "name": "python",
   "nbconvert_exporter": "python",
   "pygments_lexer": "ipython3",
   "version": "3.6.8"
  }
 },
 "nbformat": 4,
 "nbformat_minor": 5
}
