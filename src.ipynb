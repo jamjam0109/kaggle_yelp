{
 "cells": [
  {
   "cell_type": "code",
   "execution_count": 1,
   "id": "controlling-sensitivity",
   "metadata": {},
   "outputs": [],
   "source": [
    "import warnings \n",
    "import utils as ut \n",
    "import numpy as np\n",
    "import pandas as pd\n",
    "import seaborn as sns \n",
    "import matplotlib.pyplot as plt\n",
    "\n",
    "from haversine import haversine\n",
    "from collections import Counter\n",
    "\n",
    "warnings.filterwarnings(action='ignore') "
   ]
  },
  {
   "cell_type": "code",
   "execution_count": 2,
   "id": "cutting-paintball",
   "metadata": {},
   "outputs": [],
   "source": [
    "checkin = pd.read_json('./data/yelp_academic_dataset_checkin.json', lines=True)\n",
    "business = pd.read_json('./data/yelp_academic_dataset_business.json', lines=True)"
   ]
  },
  {
   "cell_type": "markdown",
   "id": "large-pixel",
   "metadata": {},
   "source": [
    "# Q1. 2019년 온타리오 주(state = ON)에서 별점이 3.0 이상인 레스토랑 중 체크인이 가장 많은 top 10의 레스토랑명을 내림차순으로 나열하세요."
   ]
  },
  {
   "cell_type": "markdown",
   "id": "thrown-investment",
   "metadata": {},
   "source": [
    "# Answer\n",
    "---\n",
    "온타리오 주에서 별점이 3.0 이상인 레스토랑은 없습니다.\n",
    "\n",
    "레스토랑이 아닌 Bernie Hipos Wedding Films라는 Event Planning & Service 가게가 있으나, 해당 가게의 체크인 결과가 없습니다.\n",
    "\n",
    "따라서 해당 문제의 결과를 출력할 수 없습니다.\n",
    "\n",
    "---"
   ]
  },
  {
   "cell_type": "markdown",
   "id": "digital-burton",
   "metadata": {},
   "source": [
    "- 온타리오 주에서 별점 3.0 이상인 곳\n"
   ]
  },
  {
   "cell_type": "code",
   "execution_count": 3,
   "id": "assumed-holiday",
   "metadata": {},
   "outputs": [
    {
     "data": {
      "text/html": [
       "<div>\n",
       "<style scoped>\n",
       "    .dataframe tbody tr th:only-of-type {\n",
       "        vertical-align: middle;\n",
       "    }\n",
       "\n",
       "    .dataframe tbody tr th {\n",
       "        vertical-align: top;\n",
       "    }\n",
       "\n",
       "    .dataframe thead th {\n",
       "        text-align: right;\n",
       "    }\n",
       "</style>\n",
       "<table border=\"1\" class=\"dataframe\">\n",
       "  <thead>\n",
       "    <tr style=\"text-align: right;\">\n",
       "      <th></th>\n",
       "      <th>business_id</th>\n",
       "      <th>name</th>\n",
       "      <th>state</th>\n",
       "      <th>stars</th>\n",
       "      <th>categories</th>\n",
       "    </tr>\n",
       "  </thead>\n",
       "  <tbody>\n",
       "    <tr>\n",
       "      <th>52167</th>\n",
       "      <td>9fJ7gK8SaNvoe0AP_JXZiw</td>\n",
       "      <td>Bernie Hipos Wedding Films</td>\n",
       "      <td>ON</td>\n",
       "      <td>5.0</td>\n",
       "      <td>Event Planning &amp; Services, Videographers, Prof...</td>\n",
       "    </tr>\n",
       "  </tbody>\n",
       "</table>\n",
       "</div>"
      ],
      "text/plain": [
       "                  business_id                        name state  stars  \\\n",
       "52167  9fJ7gK8SaNvoe0AP_JXZiw  Bernie Hipos Wedding Films    ON    5.0   \n",
       "\n",
       "                                              categories  \n",
       "52167  Event Planning & Services, Videographers, Prof...  "
      ]
     },
     "execution_count": 3,
     "metadata": {},
     "output_type": "execute_result"
    }
   ],
   "source": [
    "state_on = business.query(\"state == 'ON' and stars >= 3\")[['business_id', 'name', 'state', 'stars', 'categories']]\n",
    "state_on"
   ]
  },
  {
   "cell_type": "markdown",
   "id": "greatest-packet",
   "metadata": {},
   "source": [
    "- 해당 가게의 체크인 데이터가 없음"
   ]
  },
  {
   "cell_type": "code",
   "execution_count": 4,
   "id": "raising-inflation",
   "metadata": {},
   "outputs": [
    {
     "data": {
      "text/html": [
       "<div>\n",
       "<style scoped>\n",
       "    .dataframe tbody tr th:only-of-type {\n",
       "        vertical-align: middle;\n",
       "    }\n",
       "\n",
       "    .dataframe tbody tr th {\n",
       "        vertical-align: top;\n",
       "    }\n",
       "\n",
       "    .dataframe thead th {\n",
       "        text-align: right;\n",
       "    }\n",
       "</style>\n",
       "<table border=\"1\" class=\"dataframe\">\n",
       "  <thead>\n",
       "    <tr style=\"text-align: right;\">\n",
       "      <th></th>\n",
       "      <th>business_id</th>\n",
       "      <th>name</th>\n",
       "      <th>state</th>\n",
       "      <th>stars</th>\n",
       "      <th>categories</th>\n",
       "      <th>date</th>\n",
       "    </tr>\n",
       "  </thead>\n",
       "  <tbody>\n",
       "    <tr>\n",
       "      <th>0</th>\n",
       "      <td>9fJ7gK8SaNvoe0AP_JXZiw</td>\n",
       "      <td>Bernie Hipos Wedding Films</td>\n",
       "      <td>ON</td>\n",
       "      <td>5.0</td>\n",
       "      <td>Event Planning &amp; Services, Videographers, Prof...</td>\n",
       "      <td>NaN</td>\n",
       "    </tr>\n",
       "  </tbody>\n",
       "</table>\n",
       "</div>"
      ],
      "text/plain": [
       "              business_id                        name state  stars  \\\n",
       "0  9fJ7gK8SaNvoe0AP_JXZiw  Bernie Hipos Wedding Films    ON    5.0   \n",
       "\n",
       "                                          categories date  \n",
       "0  Event Planning & Services, Videographers, Prof...  NaN  "
      ]
     },
     "execution_count": 4,
     "metadata": {},
     "output_type": "execute_result"
    }
   ],
   "source": [
    "state_on.merge(checkin, how='left')"
   ]
  },
  {
   "cell_type": "markdown",
   "id": "regulated-belgium",
   "metadata": {},
   "source": [
    "- Q1의 결과를 출력하는 함수 생성"
   ]
  },
  {
   "cell_type": "code",
   "execution_count": 5,
   "id": "noted-affair",
   "metadata": {},
   "outputs": [],
   "source": [
    "def get_year(df, year):\n",
    "    return df.date.count(year)\n",
    "\n",
    "def q1_fn(year, state, stars, category, top_n=10):\n",
    "    filter_category = business[business['categories'].str.contains(f'{category}', na=False, case=False)]\n",
    "    filter_business = filter_category.query(f\"state == '{state}' and stars >= {stars}\")[['business_id', 'name', 'state', 'city', 'stars', 'categories']]\n",
    "\n",
    "    year_count = checkin.apply(get_year, year=f'{year}', axis=1)\n",
    "\n",
    "    checkin_year = pd.concat([checkin['business_id'], year_count], axis=1).rename(columns={0: 'checkin'})\n",
    "\n",
    "    business_checkin = filter_business.merge(checkin_year)\n",
    "    output = business_checkin.sort_values(['checkin', 'stars'], ascending=False, ignore_index=True).head(top_n)\n",
    "\n",
    "    return output"
   ]
  },
  {
   "cell_type": "markdown",
   "id": "going-residence",
   "metadata": {},
   "source": [
    "- 타 지역(state=MA)의 경우 아래와 같은 결과를 출력할 수 있음"
   ]
  },
  {
   "cell_type": "code",
   "execution_count": 6,
   "id": "bound-cosmetic",
   "metadata": {},
   "outputs": [
    {
     "data": {
      "text/html": [
       "<div>\n",
       "<style scoped>\n",
       "    .dataframe tbody tr th:only-of-type {\n",
       "        vertical-align: middle;\n",
       "    }\n",
       "\n",
       "    .dataframe tbody tr th {\n",
       "        vertical-align: top;\n",
       "    }\n",
       "\n",
       "    .dataframe thead th {\n",
       "        text-align: right;\n",
       "    }\n",
       "</style>\n",
       "<table border=\"1\" class=\"dataframe\">\n",
       "  <thead>\n",
       "    <tr style=\"text-align: right;\">\n",
       "      <th></th>\n",
       "      <th>business_id</th>\n",
       "      <th>name</th>\n",
       "      <th>state</th>\n",
       "      <th>city</th>\n",
       "      <th>stars</th>\n",
       "      <th>categories</th>\n",
       "      <th>checkin</th>\n",
       "    </tr>\n",
       "  </thead>\n",
       "  <tbody>\n",
       "    <tr>\n",
       "      <th>0</th>\n",
       "      <td>aVCqrBqMqZaapyVrVNnZJQ</td>\n",
       "      <td>Beard Papa's</td>\n",
       "      <td>MA</td>\n",
       "      <td>Boston</td>\n",
       "      <td>4.0</td>\n",
       "      <td>Restaurants, Japanese, Bakeries, Food, Desserts</td>\n",
       "      <td>1127</td>\n",
       "    </tr>\n",
       "    <tr>\n",
       "      <th>1</th>\n",
       "      <td>PrsvO1rzkgg6qFizlAoEtg</td>\n",
       "      <td>Mike's Pastry</td>\n",
       "      <td>MA</td>\n",
       "      <td>Boston</td>\n",
       "      <td>4.0</td>\n",
       "      <td>Candy Stores, Gelato, Food, Coffee &amp; Tea, Rest...</td>\n",
       "      <td>951</td>\n",
       "    </tr>\n",
       "    <tr>\n",
       "      <th>2</th>\n",
       "      <td>xlOMKjE4omTgkI1eduWj8A</td>\n",
       "      <td>The Friendly Toast</td>\n",
       "      <td>MA</td>\n",
       "      <td>Back Bay</td>\n",
       "      <td>4.0</td>\n",
       "      <td>Nightlife, Diners, Bars, Breakfast &amp; Brunch, R...</td>\n",
       "      <td>821</td>\n",
       "    </tr>\n",
       "    <tr>\n",
       "      <th>3</th>\n",
       "      <td>_LUnyOwSpo8N5783rceT5Q</td>\n",
       "      <td>Taiyaki NYC - Boston</td>\n",
       "      <td>MA</td>\n",
       "      <td>Boston</td>\n",
       "      <td>4.0</td>\n",
       "      <td>Ice Cream &amp; Frozen Yogurt, Restaurants, Food, ...</td>\n",
       "      <td>758</td>\n",
       "    </tr>\n",
       "    <tr>\n",
       "      <th>4</th>\n",
       "      <td>1qwxzGRcU1y3tJrsoYQ4Rw</td>\n",
       "      <td>Picco Pizza &amp; Ice Cream</td>\n",
       "      <td>MA</td>\n",
       "      <td>Boston</td>\n",
       "      <td>4.0</td>\n",
       "      <td>Restaurants, Bars, Nightlife, Pizza, Italian, ...</td>\n",
       "      <td>645</td>\n",
       "    </tr>\n",
       "    <tr>\n",
       "      <th>5</th>\n",
       "      <td>y2w6rFaO0XEiG5mFfOsiFA</td>\n",
       "      <td>Neptune Oyster</td>\n",
       "      <td>MA</td>\n",
       "      <td>Boston</td>\n",
       "      <td>4.5</td>\n",
       "      <td>Arabian, Thai, American (Traditional), Live/Ra...</td>\n",
       "      <td>643</td>\n",
       "    </tr>\n",
       "    <tr>\n",
       "      <th>6</th>\n",
       "      <td>Q2dq9Eo1NMbD1k25Xx21TQ</td>\n",
       "      <td>Spring Shabu-Shabu</td>\n",
       "      <td>MA</td>\n",
       "      <td>Boston</td>\n",
       "      <td>4.5</td>\n",
       "      <td>Restaurants, Buffets, Japanese, Hot Pot, Seafood</td>\n",
       "      <td>537</td>\n",
       "    </tr>\n",
       "    <tr>\n",
       "      <th>7</th>\n",
       "      <td>mNjI-BGs-FMaZCdwgP_8uA</td>\n",
       "      <td>Santouka Harvard Square</td>\n",
       "      <td>MA</td>\n",
       "      <td>Cambridge</td>\n",
       "      <td>4.0</td>\n",
       "      <td>Soup, Ramen, Japanese, Noodles, Restaurants</td>\n",
       "      <td>510</td>\n",
       "    </tr>\n",
       "    <tr>\n",
       "      <th>8</th>\n",
       "      <td>nijacBMGySzM0sBsYYxUhQ</td>\n",
       "      <td>Punjabi Dhaba</td>\n",
       "      <td>MA</td>\n",
       "      <td>Cambridge</td>\n",
       "      <td>4.0</td>\n",
       "      <td>Pakistani, Restaurants, Indian, Caterers, Even...</td>\n",
       "      <td>471</td>\n",
       "    </tr>\n",
       "    <tr>\n",
       "      <th>9</th>\n",
       "      <td>kP1b-7BO_VhWk_0tvuA_tw</td>\n",
       "      <td>Carmelina's</td>\n",
       "      <td>MA</td>\n",
       "      <td>Boston</td>\n",
       "      <td>4.5</td>\n",
       "      <td>Vegetarian, Restaurants, Gluten-Free, Italian</td>\n",
       "      <td>469</td>\n",
       "    </tr>\n",
       "  </tbody>\n",
       "</table>\n",
       "</div>"
      ],
      "text/plain": [
       "              business_id                     name state       city  stars  \\\n",
       "0  aVCqrBqMqZaapyVrVNnZJQ             Beard Papa's    MA     Boston    4.0   \n",
       "1  PrsvO1rzkgg6qFizlAoEtg            Mike's Pastry    MA     Boston    4.0   \n",
       "2  xlOMKjE4omTgkI1eduWj8A       The Friendly Toast    MA   Back Bay    4.0   \n",
       "3  _LUnyOwSpo8N5783rceT5Q     Taiyaki NYC - Boston    MA     Boston    4.0   \n",
       "4  1qwxzGRcU1y3tJrsoYQ4Rw  Picco Pizza & Ice Cream    MA     Boston    4.0   \n",
       "5  y2w6rFaO0XEiG5mFfOsiFA           Neptune Oyster    MA     Boston    4.5   \n",
       "6  Q2dq9Eo1NMbD1k25Xx21TQ       Spring Shabu-Shabu    MA     Boston    4.5   \n",
       "7  mNjI-BGs-FMaZCdwgP_8uA  Santouka Harvard Square    MA  Cambridge    4.0   \n",
       "8  nijacBMGySzM0sBsYYxUhQ            Punjabi Dhaba    MA  Cambridge    4.0   \n",
       "9  kP1b-7BO_VhWk_0tvuA_tw              Carmelina's    MA     Boston    4.5   \n",
       "\n",
       "                                          categories  checkin  \n",
       "0    Restaurants, Japanese, Bakeries, Food, Desserts     1127  \n",
       "1  Candy Stores, Gelato, Food, Coffee & Tea, Rest...      951  \n",
       "2  Nightlife, Diners, Bars, Breakfast & Brunch, R...      821  \n",
       "3  Ice Cream & Frozen Yogurt, Restaurants, Food, ...      758  \n",
       "4  Restaurants, Bars, Nightlife, Pizza, Italian, ...      645  \n",
       "5  Arabian, Thai, American (Traditional), Live/Ra...      643  \n",
       "6   Restaurants, Buffets, Japanese, Hot Pot, Seafood      537  \n",
       "7        Soup, Ramen, Japanese, Noodles, Restaurants      510  \n",
       "8  Pakistani, Restaurants, Indian, Caterers, Even...      471  \n",
       "9      Vegetarian, Restaurants, Gluten-Free, Italian      469  "
      ]
     },
     "execution_count": 6,
     "metadata": {},
     "output_type": "execute_result"
    }
   ],
   "source": [
    "year = 2019\n",
    "state = 'MA'\n",
    "stars = 3 \n",
    "category = 'Restaurants'\n",
    "\n",
    "q1_fn(year, state, stars, category)"
   ]
  },
  {
   "cell_type": "markdown",
   "id": "expired-description",
   "metadata": {},
   "source": [
    "- 다른 조건 예시"
   ]
  },
  {
   "cell_type": "code",
   "execution_count": 7,
   "id": "rocky-oregon",
   "metadata": {},
   "outputs": [
    {
     "data": {
      "text/html": [
       "<div>\n",
       "<style scoped>\n",
       "    .dataframe tbody tr th:only-of-type {\n",
       "        vertical-align: middle;\n",
       "    }\n",
       "\n",
       "    .dataframe tbody tr th {\n",
       "        vertical-align: top;\n",
       "    }\n",
       "\n",
       "    .dataframe thead th {\n",
       "        text-align: right;\n",
       "    }\n",
       "</style>\n",
       "<table border=\"1\" class=\"dataframe\">\n",
       "  <thead>\n",
       "    <tr style=\"text-align: right;\">\n",
       "      <th></th>\n",
       "      <th>business_id</th>\n",
       "      <th>name</th>\n",
       "      <th>state</th>\n",
       "      <th>city</th>\n",
       "      <th>stars</th>\n",
       "      <th>categories</th>\n",
       "      <th>checkin</th>\n",
       "    </tr>\n",
       "  </thead>\n",
       "  <tbody>\n",
       "    <tr>\n",
       "      <th>0</th>\n",
       "      <td>Ur7o-5FviIC9YmJqsGKR6A</td>\n",
       "      <td>Soro Soro Coffee &amp; Dessert</td>\n",
       "      <td>OR</td>\n",
       "      <td>Portland</td>\n",
       "      <td>4.5</td>\n",
       "      <td>Cafes, Korean, Coffee &amp; Tea, Desserts, Bakerie...</td>\n",
       "      <td>70</td>\n",
       "    </tr>\n",
       "    <tr>\n",
       "      <th>1</th>\n",
       "      <td>2DNuQq6VUHc0DVkSv8nvEA</td>\n",
       "      <td>Chimaek Town</td>\n",
       "      <td>OR</td>\n",
       "      <td>Portland</td>\n",
       "      <td>4.0</td>\n",
       "      <td>Food, Poke, Bars, Nightlife, Restaurants, Kore...</td>\n",
       "      <td>51</td>\n",
       "    </tr>\n",
       "    <tr>\n",
       "      <th>2</th>\n",
       "      <td>gMrYpQCNKF5BdfRgGSaY9Q</td>\n",
       "      <td>Bonchon Happy Valley</td>\n",
       "      <td>OR</td>\n",
       "      <td>Happy Valley</td>\n",
       "      <td>4.0</td>\n",
       "      <td>Chicken Wings, Asian Fusion, Korean, Restaurants</td>\n",
       "      <td>47</td>\n",
       "    </tr>\n",
       "    <tr>\n",
       "      <th>3</th>\n",
       "      <td>5Vrg_1JXv0B6pvkdLVxvnw</td>\n",
       "      <td>Kkoki Korean BBQ - Portland</td>\n",
       "      <td>OR</td>\n",
       "      <td>Portland</td>\n",
       "      <td>4.0</td>\n",
       "      <td>Barbeque, Korean, Restaurants</td>\n",
       "      <td>42</td>\n",
       "    </tr>\n",
       "    <tr>\n",
       "      <th>4</th>\n",
       "      <td>41Ua5_jFh1n2GEW4CW-Yuw</td>\n",
       "      <td>Spring Restaurant</td>\n",
       "      <td>OR</td>\n",
       "      <td>Beaverton</td>\n",
       "      <td>4.5</td>\n",
       "      <td>Korean, Restaurants</td>\n",
       "      <td>36</td>\n",
       "    </tr>\n",
       "    <tr>\n",
       "      <th>5</th>\n",
       "      <td>457rB-piltkliX81ApG5aw</td>\n",
       "      <td>The Bulgogi DuKuhBee Noodles</td>\n",
       "      <td>OR</td>\n",
       "      <td>Portland</td>\n",
       "      <td>4.5</td>\n",
       "      <td>Restaurants, Asian Fusion, Korean</td>\n",
       "      <td>30</td>\n",
       "    </tr>\n",
       "    <tr>\n",
       "      <th>6</th>\n",
       "      <td>tfBPmttYLeu9BAC2QHaokg</td>\n",
       "      <td>Honey Spicy Bowl</td>\n",
       "      <td>OR</td>\n",
       "      <td>Tigard</td>\n",
       "      <td>4.5</td>\n",
       "      <td>Restaurants, Korean, Japanese, Asian Fusion</td>\n",
       "      <td>30</td>\n",
       "    </tr>\n",
       "    <tr>\n",
       "      <th>7</th>\n",
       "      <td>jVP9O2VtMtKa_KfDYWXiOA</td>\n",
       "      <td>Ate-Oh-Ate</td>\n",
       "      <td>OR</td>\n",
       "      <td>Portland</td>\n",
       "      <td>4.0</td>\n",
       "      <td>Sandwiches, Hawaiian, Korean, Restaurants, Bur...</td>\n",
       "      <td>30</td>\n",
       "    </tr>\n",
       "    <tr>\n",
       "      <th>8</th>\n",
       "      <td>3vk3lqLx8Yevr_1bJ8xCXw</td>\n",
       "      <td>Kkoki Korean BBQ</td>\n",
       "      <td>OR</td>\n",
       "      <td>Beaverton</td>\n",
       "      <td>4.0</td>\n",
       "      <td>Restaurants, Korean, Barbeque</td>\n",
       "      <td>30</td>\n",
       "    </tr>\n",
       "    <tr>\n",
       "      <th>9</th>\n",
       "      <td>7m_Tj6xC5CjulQ-6Wucdpw</td>\n",
       "      <td>Bibi2go</td>\n",
       "      <td>OR</td>\n",
       "      <td>Portland</td>\n",
       "      <td>4.5</td>\n",
       "      <td>Restaurants, Asian Fusion, Korean, Vegetarian,...</td>\n",
       "      <td>29</td>\n",
       "    </tr>\n",
       "  </tbody>\n",
       "</table>\n",
       "</div>"
      ],
      "text/plain": [
       "              business_id                          name state          city  \\\n",
       "0  Ur7o-5FviIC9YmJqsGKR6A    Soro Soro Coffee & Dessert    OR      Portland   \n",
       "1  2DNuQq6VUHc0DVkSv8nvEA                  Chimaek Town    OR      Portland   \n",
       "2  gMrYpQCNKF5BdfRgGSaY9Q          Bonchon Happy Valley    OR  Happy Valley   \n",
       "3  5Vrg_1JXv0B6pvkdLVxvnw   Kkoki Korean BBQ - Portland    OR      Portland   \n",
       "4  41Ua5_jFh1n2GEW4CW-Yuw             Spring Restaurant    OR     Beaverton   \n",
       "5  457rB-piltkliX81ApG5aw  The Bulgogi DuKuhBee Noodles    OR      Portland   \n",
       "6  tfBPmttYLeu9BAC2QHaokg              Honey Spicy Bowl    OR        Tigard   \n",
       "7  jVP9O2VtMtKa_KfDYWXiOA                    Ate-Oh-Ate    OR      Portland   \n",
       "8  3vk3lqLx8Yevr_1bJ8xCXw              Kkoki Korean BBQ    OR     Beaverton   \n",
       "9  7m_Tj6xC5CjulQ-6Wucdpw                       Bibi2go    OR      Portland   \n",
       "\n",
       "   stars                                         categories  checkin  \n",
       "0    4.5  Cafes, Korean, Coffee & Tea, Desserts, Bakerie...       70  \n",
       "1    4.0  Food, Poke, Bars, Nightlife, Restaurants, Kore...       51  \n",
       "2    4.0   Chicken Wings, Asian Fusion, Korean, Restaurants       47  \n",
       "3    4.0                      Barbeque, Korean, Restaurants       42  \n",
       "4    4.5                                Korean, Restaurants       36  \n",
       "5    4.5                  Restaurants, Asian Fusion, Korean       30  \n",
       "6    4.5        Restaurants, Korean, Japanese, Asian Fusion       30  \n",
       "7    4.0  Sandwiches, Hawaiian, Korean, Restaurants, Bur...       30  \n",
       "8    4.0                      Restaurants, Korean, Barbeque       30  \n",
       "9    4.5  Restaurants, Asian Fusion, Korean, Vegetarian,...       29  "
      ]
     },
     "execution_count": 7,
     "metadata": {},
     "output_type": "execute_result"
    }
   ],
   "source": [
    "year = 2020\n",
    "state = 'OR'\n",
    "stars = 4 \n",
    "category = 'korean'\n",
    "q1_fn(year, state, stars, category)"
   ]
  },
  {
   "cell_type": "markdown",
   "id": "banned-diagnosis",
   "metadata": {},
   "source": [
    "# Q2. 토론토에서 피자 가게를 창업할 계획입니다. 다만, 24시간 영업을 해야할지 고민입니다. 주어진 데이터로 24시간 영업의 타당성을 검증해 보세요. (가설을 증명하는데 필요한 정보나 상황은 자유롭게 가정하세요)"
   ]
  },
  {
   "cell_type": "markdown",
   "id": "unavailable-fiction",
   "metadata": {},
   "source": [
    "# Answer\n",
    "---\n",
    "\n",
    "### 현황 파악\n",
    "1. 토론토 현황 파악\n",
    "    - 토론토 데이터는 1개 뿐이며 해당 데이터의 카테고리가 음식과 무관하므로 활용하기 어렵습니다. \n",
    "    - 따라서, 토론토와 가장 가까운 지역을 파악하고 해당 지역을 기준으로 타당성을 검증합니다.\n",
    "2. 토론토와 가장 가까운 지역 파악\n",
    "    - business 데이터에의 위도/경도 정보로 지역간 거리를 계산합니다. \n",
    "      - 지역간 거리 계산은 [haversine](https://github.com/mapado/haversine) 라이브러리를 활용합니다. \n",
    "    - 거리 계산 결과 state='BC', city='New Westminster' 지역이 가장 가까운 곳으로 나타났습니다. \n",
    "    - 따라서, BC의 New Westminster 지역을 기준으로 타당성을 검증합니다. \n",
    "3. BC, New Westminster의 식당 및 피자 가게 파악\n",
    "    - 해당지역의 데이터는 총 522개이며, categories에 'restaurants'을 포함하는 데이터는 232개 입니다.\n",
    "    - 'pizza'를 포함하는 데이터는 21개 입니다. \n",
    "    - 24시간 운영하는 식당은 232개 중 18개이나, 피자가게의 경우 24시간 운영하는 곳은 없습니다.    \n",
    "      - 24시간 운영하는 식당의 상위 카테고리는 아래와 같습니다.\n",
    "        - Sandwiches(6건)\n",
    "        - Breakfast&Brunch(6건)\n",
    "        - Cafes(5건)\n",
    "        - Coffee&Tea(5건)\n",
    "4. 피자 가게 운영시간 파악   \n",
    "    - 21개 피자 가게 중 운영시간 데이터가 존재하는 가게는 18곳 입니다.\n",
    "      - 휴일없이 매일 운영: 15곳 \n",
    "      - 주 6회 운영(월요일 휴무): 2곳\n",
    "      - 주 5회 운영(일요일, 월요일 휴무): 1곳\n",
    "    - open, close 요일별 최다시간 분포 \n",
    "      - open\n",
    "        - 월~일요일 모두 11시가 가장 많음\n",
    "      - close\n",
    "        - 월~목요일: 22시 또는 23시\n",
    "        - 금~일요일: 23시 또는 00시\n",
    "\n",
    "### 결론\n",
    "1. 24시간 운영하는 가게는 일반적으로 카페, 브런치 가게입니다. \n",
    "2. 또한 24시간을 운영하는 피자 가게가 해당 지역에 한 곳도 없습니다. 따라서 이전사례가 없는 시도를 창업에 적용하기엔 리스크가 크다고 판단되므로 추천하지 않습니다.\n",
    "3. 해당 지역의 피자가게는 휴일없이 운영되는 곳이 가장 많았습니다. 창업 초기엔 휴일없이 가게를 운영한 후, 손님의 상황에 따라 휴일을 1회 정도 늘리는 것을 고려해야 합니다.\n",
    "4. open 시간의 경우 11시가 가장 많았습니다. 아침 식사로 피자를 하기엔 부담되므로 점심 식사 때부터 운영하기 적합하다고 판단됩니다.\n",
    "5. close 시간의 경우 월요일-목요일과 금요일-일요일 구분이 필요합니다. \n",
    "   - 월요일-목요일의 경우 22시 또는 23시에 close하는 경우가 많습니다. 창업 초기엔 23시까지 가게를 운영한 후에 현행 유지 또는 22시로 앞당기는 것을 추천합니다. \n",
    "   - 금요일-일요일의 경우 23시 또는 00시에 close하는 경우가 많습니다. 창업 초기엔 00시까지 가게를 운영한 후에 현행 유지 또는 23시로 앞당기는 것을 추천합니다. \n",
    "\n",
    "---"
   ]
  },
  {
   "cell_type": "markdown",
   "id": "noted-environment",
   "metadata": {},
   "source": [
    "- 토론토 데이터 결과"
   ]
  },
  {
   "cell_type": "code",
   "execution_count": 8,
   "id": "quality-hepatitis",
   "metadata": {},
   "outputs": [
    {
     "data": {
      "text/html": [
       "<div>\n",
       "<style scoped>\n",
       "    .dataframe tbody tr th:only-of-type {\n",
       "        vertical-align: middle;\n",
       "    }\n",
       "\n",
       "    .dataframe tbody tr th {\n",
       "        vertical-align: top;\n",
       "    }\n",
       "\n",
       "    .dataframe thead th {\n",
       "        text-align: right;\n",
       "    }\n",
       "</style>\n",
       "<table border=\"1\" class=\"dataframe\">\n",
       "  <thead>\n",
       "    <tr style=\"text-align: right;\">\n",
       "      <th></th>\n",
       "      <th>business_id</th>\n",
       "      <th>name</th>\n",
       "      <th>address</th>\n",
       "      <th>city</th>\n",
       "      <th>state</th>\n",
       "      <th>postal_code</th>\n",
       "      <th>latitude</th>\n",
       "      <th>longitude</th>\n",
       "      <th>stars</th>\n",
       "      <th>review_count</th>\n",
       "      <th>is_open</th>\n",
       "      <th>attributes</th>\n",
       "      <th>categories</th>\n",
       "      <th>hours</th>\n",
       "    </tr>\n",
       "  </thead>\n",
       "  <tbody>\n",
       "    <tr>\n",
       "      <th>52167</th>\n",
       "      <td>9fJ7gK8SaNvoe0AP_JXZiw</td>\n",
       "      <td>Bernie Hipos Wedding Films</td>\n",
       "      <td></td>\n",
       "      <td>Toronto</td>\n",
       "      <td>ON</td>\n",
       "      <td>M5C 1T4</td>\n",
       "      <td>49.226695</td>\n",
       "      <td>-122.893603</td>\n",
       "      <td>5.0</td>\n",
       "      <td>7</td>\n",
       "      <td>1</td>\n",
       "      <td>None</td>\n",
       "      <td>Event Planning &amp; Services, Videographers, Prof...</td>\n",
       "      <td>{'Monday': '9:0-17:0', 'Tuesday': '9:0-17:0', ...</td>\n",
       "    </tr>\n",
       "  </tbody>\n",
       "</table>\n",
       "</div>"
      ],
      "text/plain": [
       "                  business_id                        name address     city  \\\n",
       "52167  9fJ7gK8SaNvoe0AP_JXZiw  Bernie Hipos Wedding Films          Toronto   \n",
       "\n",
       "      state postal_code   latitude   longitude  stars  review_count  is_open  \\\n",
       "52167    ON     M5C 1T4  49.226695 -122.893603    5.0             7        1   \n",
       "\n",
       "      attributes                                         categories  \\\n",
       "52167       None  Event Planning & Services, Videographers, Prof...   \n",
       "\n",
       "                                                   hours  \n",
       "52167  {'Monday': '9:0-17:0', 'Tuesday': '9:0-17:0', ...  "
      ]
     },
     "execution_count": 8,
     "metadata": {},
     "output_type": "execute_result"
    }
   ],
   "source": [
    "business.query(\"city == 'Toronto'\")"
   ]
  },
  {
   "cell_type": "markdown",
   "id": "wrapped-school",
   "metadata": {},
   "source": [
    "- 토론토 데이터의 카테고리 결과"
   ]
  },
  {
   "cell_type": "code",
   "execution_count": 9,
   "id": "amateur-mumbai",
   "metadata": {},
   "outputs": [
    {
     "data": {
      "text/plain": [
       "['Event Planning & Services, Videographers, Professional Services, Video/Film Production']"
      ]
     },
     "execution_count": 9,
     "metadata": {},
     "output_type": "execute_result"
    }
   ],
   "source": [
    "business.query(\"city == 'Toronto'\")['categories'].tolist()"
   ]
  },
  {
   "cell_type": "markdown",
   "id": "leading-buffalo",
   "metadata": {},
   "source": [
    "- 토론토와 가장 가까운 지역 파악"
   ]
  },
  {
   "cell_type": "code",
   "execution_count": 10,
   "id": "surprising-offset",
   "metadata": {},
   "outputs": [],
   "source": [
    "toronto_lat = business.query(\"city == 'Toronto'\")['latitude'].tolist()[0]\n",
    "toronto_long = business.query(\"city == 'Toronto'\")['longitude'].tolist()[0]\n",
    "toronto = (toronto_lat, toronto_long)"
   ]
  },
  {
   "cell_type": "code",
   "execution_count": 11,
   "id": "alone-preservation",
   "metadata": {},
   "outputs": [],
   "source": [
    "dist_output = list()\n",
    "for i in range(len(business)): \n",
    "    lat = business.iloc[i, :]['latitude']\n",
    "    long = business.iloc[i, :]['longitude']\n",
    "    \n",
    "    site = (lat, long)\n",
    "    \n",
    "    dist = haversine(toronto, site)\n",
    "    dist_output.append(dist)\n",
    "    \n",
    "business['dist_by_toronto'] = dist_output"
   ]
  },
  {
   "cell_type": "markdown",
   "id": "optical-draft",
   "metadata": {},
   "source": [
    "- Toronto와 가장 가까운 지역은 state=BC, city=New Westminster 이다."
   ]
  },
  {
   "cell_type": "code",
   "execution_count": 12,
   "id": "aerial-steps",
   "metadata": {},
   "outputs": [
    {
     "data": {
      "text/html": [
       "<div>\n",
       "<style scoped>\n",
       "    .dataframe tbody tr th:only-of-type {\n",
       "        vertical-align: middle;\n",
       "    }\n",
       "\n",
       "    .dataframe tbody tr th {\n",
       "        vertical-align: top;\n",
       "    }\n",
       "\n",
       "    .dataframe thead th {\n",
       "        text-align: right;\n",
       "    }\n",
       "</style>\n",
       "<table border=\"1\" class=\"dataframe\">\n",
       "  <thead>\n",
       "    <tr style=\"text-align: right;\">\n",
       "      <th></th>\n",
       "      <th>state</th>\n",
       "      <th>city</th>\n",
       "      <th>dist_by_toronto</th>\n",
       "    </tr>\n",
       "  </thead>\n",
       "  <tbody>\n",
       "    <tr>\n",
       "      <th>52167</th>\n",
       "      <td>ON</td>\n",
       "      <td>Toronto</td>\n",
       "      <td>0.000000</td>\n",
       "    </tr>\n",
       "    <tr>\n",
       "      <th>158471</th>\n",
       "      <td>BC</td>\n",
       "      <td>New Westminster</td>\n",
       "      <td>0.042951</td>\n",
       "    </tr>\n",
       "    <tr>\n",
       "      <th>105210</th>\n",
       "      <td>BC</td>\n",
       "      <td>New Westminster</td>\n",
       "      <td>0.098927</td>\n",
       "    </tr>\n",
       "    <tr>\n",
       "      <th>91530</th>\n",
       "      <td>BC</td>\n",
       "      <td>New Westminster</td>\n",
       "      <td>0.104565</td>\n",
       "    </tr>\n",
       "    <tr>\n",
       "      <th>123040</th>\n",
       "      <td>BC</td>\n",
       "      <td>New Westminster</td>\n",
       "      <td>0.184712</td>\n",
       "    </tr>\n",
       "    <tr>\n",
       "      <th>99043</th>\n",
       "      <td>BC</td>\n",
       "      <td>New Westminster</td>\n",
       "      <td>0.200516</td>\n",
       "    </tr>\n",
       "    <tr>\n",
       "      <th>77686</th>\n",
       "      <td>BC</td>\n",
       "      <td>New Westminster</td>\n",
       "      <td>0.205705</td>\n",
       "    </tr>\n",
       "    <tr>\n",
       "      <th>150538</th>\n",
       "      <td>BC</td>\n",
       "      <td>New Westminister</td>\n",
       "      <td>0.238824</td>\n",
       "    </tr>\n",
       "    <tr>\n",
       "      <th>95643</th>\n",
       "      <td>BC</td>\n",
       "      <td>New Westminster</td>\n",
       "      <td>0.247310</td>\n",
       "    </tr>\n",
       "    <tr>\n",
       "      <th>102458</th>\n",
       "      <td>BC</td>\n",
       "      <td>New Westminster</td>\n",
       "      <td>0.249582</td>\n",
       "    </tr>\n",
       "  </tbody>\n",
       "</table>\n",
       "</div>"
      ],
      "text/plain": [
       "       state              city  dist_by_toronto\n",
       "52167     ON           Toronto         0.000000\n",
       "158471    BC   New Westminster         0.042951\n",
       "105210    BC   New Westminster         0.098927\n",
       "91530     BC   New Westminster         0.104565\n",
       "123040    BC   New Westminster         0.184712\n",
       "99043     BC   New Westminster         0.200516\n",
       "77686     BC   New Westminster         0.205705\n",
       "150538    BC  New Westminister         0.238824\n",
       "95643     BC   New Westminster         0.247310\n",
       "102458    BC   New Westminster         0.249582"
      ]
     },
     "execution_count": 12,
     "metadata": {},
     "output_type": "execute_result"
    }
   ],
   "source": [
    "business.sort_values('dist_by_toronto')[['state', 'city', 'dist_by_toronto']].head(10)"
   ]
  },
  {
   "cell_type": "markdown",
   "id": "precious-liabilities",
   "metadata": {},
   "source": [
    "- state별 city별 toronto와 평균 거리 결과(상위 10개)"
   ]
  },
  {
   "cell_type": "code",
   "execution_count": 13,
   "id": "unknown-token",
   "metadata": {},
   "outputs": [
    {
     "data": {
      "text/html": [
       "<div>\n",
       "<style scoped>\n",
       "    .dataframe tbody tr th:only-of-type {\n",
       "        vertical-align: middle;\n",
       "    }\n",
       "\n",
       "    .dataframe tbody tr th {\n",
       "        vertical-align: top;\n",
       "    }\n",
       "\n",
       "    .dataframe thead th {\n",
       "        text-align: right;\n",
       "    }\n",
       "</style>\n",
       "<table border=\"1\" class=\"dataframe\">\n",
       "  <thead>\n",
       "    <tr style=\"text-align: right;\">\n",
       "      <th></th>\n",
       "      <th>state</th>\n",
       "      <th>city</th>\n",
       "      <th>dist_by_toronto</th>\n",
       "    </tr>\n",
       "  </thead>\n",
       "  <tbody>\n",
       "    <tr>\n",
       "      <th>690</th>\n",
       "      <td>ON</td>\n",
       "      <td>Toronto</td>\n",
       "      <td>0.000000</td>\n",
       "    </tr>\n",
       "    <tr>\n",
       "      <th>25</th>\n",
       "      <td>BC</td>\n",
       "      <td>NEW WESTMINSTER</td>\n",
       "      <td>0.572046</td>\n",
       "    </tr>\n",
       "    <tr>\n",
       "      <th>53</th>\n",
       "      <td>BC</td>\n",
       "      <td>burnaby</td>\n",
       "      <td>1.043494</td>\n",
       "    </tr>\n",
       "    <tr>\n",
       "      <th>23</th>\n",
       "      <td>BC</td>\n",
       "      <td>Lougheed</td>\n",
       "      <td>1.828187</td>\n",
       "    </tr>\n",
       "    <tr>\n",
       "      <th>27</th>\n",
       "      <td>BC</td>\n",
       "      <td>New Westminister</td>\n",
       "      <td>2.115766</td>\n",
       "    </tr>\n",
       "    <tr>\n",
       "      <th>28</th>\n",
       "      <td>BC</td>\n",
       "      <td>New Westminster</td>\n",
       "      <td>2.916546</td>\n",
       "    </tr>\n",
       "    <tr>\n",
       "      <th>29</th>\n",
       "      <td>BC</td>\n",
       "      <td>Newwestminster</td>\n",
       "      <td>5.577954</td>\n",
       "    </tr>\n",
       "    <tr>\n",
       "      <th>5</th>\n",
       "      <td>BC</td>\n",
       "      <td>BURNABY</td>\n",
       "      <td>5.724076</td>\n",
       "    </tr>\n",
       "    <tr>\n",
       "      <th>10</th>\n",
       "      <td>BC</td>\n",
       "      <td>Coquitlam</td>\n",
       "      <td>6.179565</td>\n",
       "    </tr>\n",
       "    <tr>\n",
       "      <th>36</th>\n",
       "      <td>BC</td>\n",
       "      <td>Port Moody</td>\n",
       "      <td>6.962517</td>\n",
       "    </tr>\n",
       "  </tbody>\n",
       "</table>\n",
       "</div>"
      ],
      "text/plain": [
       "    state              city  dist_by_toronto\n",
       "690    ON           Toronto         0.000000\n",
       "25     BC   NEW WESTMINSTER         0.572046\n",
       "53     BC           burnaby         1.043494\n",
       "23     BC          Lougheed         1.828187\n",
       "27     BC  New Westminister         2.115766\n",
       "28     BC   New Westminster         2.916546\n",
       "29     BC    Newwestminster         5.577954\n",
       "5      BC           BURNABY         5.724076\n",
       "10     BC         Coquitlam         6.179565\n",
       "36     BC        Port Moody         6.962517"
      ]
     },
     "execution_count": 13,
     "metadata": {},
     "output_type": "execute_result"
    }
   ],
   "source": [
    "business.groupby(['state', 'city'], as_index=False)['dist_by_toronto'].mean().sort_values('dist_by_toronto').head(10)"
   ]
  },
  {
   "cell_type": "markdown",
   "id": "forward-climb",
   "metadata": {},
   "source": [
    "- New Westminster지역확인\n",
    "  - 총 데이터는 522개\n",
    "  - 'restaurants' 데이터는 232개\n",
    "  - 'pizza' 데이터는 21개"
   ]
  },
  {
   "cell_type": "code",
   "execution_count": 14,
   "id": "hydraulic-wildlife",
   "metadata": {},
   "outputs": [
    {
     "data": {
      "text/plain": [
       "522"
      ]
     },
     "execution_count": 14,
     "metadata": {},
     "output_type": "execute_result"
    }
   ],
   "source": [
    "new_westminster = business.query(\"state == 'BC' and city == 'New Westminster'\")\n",
    "len(new_westminster)"
   ]
  },
  {
   "cell_type": "code",
   "execution_count": 15,
   "id": "liked-benchmark",
   "metadata": {},
   "outputs": [
    {
     "data": {
      "text/plain": [
       "232"
      ]
     },
     "execution_count": 15,
     "metadata": {},
     "output_type": "execute_result"
    }
   ],
   "source": [
    "new_westminster_restaurants = new_westminster[new_westminster['categories'].str.contains('restaurants', na=False, case=False)]\n",
    "len(new_westminster_restaurants)"
   ]
  },
  {
   "cell_type": "code",
   "execution_count": 16,
   "id": "radio-flooring",
   "metadata": {},
   "outputs": [
    {
     "data": {
      "text/plain": [
       "21"
      ]
     },
     "execution_count": 16,
     "metadata": {},
     "output_type": "execute_result"
    }
   ],
   "source": [
    "new_westminster_pizza = new_westminster[new_westminster['categories'].str.contains('pizza', na=False, case=False)]\n",
    "len(new_westminster_pizza)"
   ]
  },
  {
   "cell_type": "markdown",
   "id": "everyday-margin",
   "metadata": {},
   "source": [
    "- 24시간 운영(hours == '0:0-0:0')하는 식당 또는 피자집이 있는지 알아보자\n",
    "  - 식당: 18곳 존재\n",
    "  - 피자 가게: 없음"
   ]
  },
  {
   "cell_type": "code",
   "execution_count": 17,
   "id": "sharp-puppy",
   "metadata": {},
   "outputs": [
    {
     "data": {
      "text/plain": [
       "18"
      ]
     },
     "execution_count": 17,
     "metadata": {},
     "output_type": "execute_result"
    }
   ],
   "source": [
    "new_westminster_restaurants['hours'] = new_westminster_restaurants['hours'].astype('str') \n",
    "new_westminster_restaurants_24hrs = new_westminster_restaurants[new_westminster_restaurants['hours'].str.contains(\"0:0-0:0\", na=False, case=False)]\n",
    "\n",
    "len(new_westminster_restaurants_24hrs)"
   ]
  },
  {
   "cell_type": "code",
   "execution_count": 18,
   "id": "alternative-mileage",
   "metadata": {},
   "outputs": [
    {
     "data": {
      "text/plain": [
       "0"
      ]
     },
     "execution_count": 18,
     "metadata": {},
     "output_type": "execute_result"
    }
   ],
   "source": [
    "new_westminster_pizza_24hrs = new_westminster_pizza[new_westminster_pizza['hours'].str.contains(\"0:0-0:0\", na=False, case=False)]\n",
    "len(new_westminster_pizza_24hrs)"
   ]
  },
  {
   "cell_type": "markdown",
   "id": "joined-feelings",
   "metadata": {},
   "source": [
    "- 24시간으로 운영되는 식당의 카테고리 파악\n",
    "  - Sandwiches(6건)\n",
    "  - Breakfast&Brunch(6건)\n",
    "  - Cafes(5건)\n",
    "  - Coffee&Tea(5건)"
   ]
  },
  {
   "cell_type": "code",
   "execution_count": 19,
   "id": "reasonable-package",
   "metadata": {},
   "outputs": [
    {
     "data": {
      "text/plain": [
       "[('Restaurants', 18),\n",
       " ('Sandwiches', 6),\n",
       " ('Breakfast&Brunch', 6),\n",
       " ('Food', 6),\n",
       " ('Cafes', 5),\n",
       " ('Coffee&Tea', 5),\n",
       " ('Nightlife', 4),\n",
       " ('Caterers', 3),\n",
       " ('EventPlanning&Services', 3),\n",
       " ('Bars', 3)]"
      ]
     },
     "execution_count": 19,
     "metadata": {},
     "output_type": "execute_result"
    }
   ],
   "source": [
    "cateogries_24hrs = new_westminster_restaurants_24hrs.categories.tolist()\n",
    "cateogries_24hrs = ','.join(cateogries_24hrs)\n",
    "cateogries_24hrs = cateogries_24hrs.split(\",\")\n",
    "\n",
    "output = list()\n",
    "for category in cateogries_24hrs:\n",
    "    output.append(category.replace(' ', ''))\n",
    "    \n",
    "Counter(output).most_common()[:10]"
   ]
  },
  {
   "cell_type": "markdown",
   "id": "accomplished-victorian",
   "metadata": {},
   "source": [
    "- 피자 가게의 운영시간을 확인(21곳)\n",
    "  - 운영시간 데이터가 존재하는 곳: 18곳\n",
    "  - 매일 운영하는 곳: 15곳\n",
    "    - 주 6회: 2곳(월요일 휴무)\n",
    "    - 주 5회: 1곳(일, 월 휴무)"
   ]
  },
  {
   "cell_type": "code",
   "execution_count": 20,
   "id": "endangered-beginning",
   "metadata": {},
   "outputs": [],
   "source": [
    "pizza_hours = new_westminster_pizza.query(\"hours == hours\")[['business_id', 'name', 'hours']]\n",
    "\n",
    "output = pd.DataFrame()\n",
    "\n",
    "for i in range(len(pizza_hours)):\n",
    "    row = pizza_hours.iloc[i, :]\n",
    "    \n",
    "    business_id = row['business_id']\n",
    "    name = row['name']\n",
    "    hours = row['hours']\n",
    "    result = pd.DataFrame.from_dict(hours, orient='index', columns=['hours'])    \n",
    "    result = result.reset_index()\n",
    "    result['business_id'] = business_id  \n",
    "    result['name'] = name      \n",
    "\n",
    "    result = result.rename(columns={'index': 'day_of_week'})\n",
    "    result = result[['business_id', 'name', 'day_of_week', 'hours']]\n",
    "    \n",
    "    output = pd.concat([output, result], axis=0)\n"
   ]
  },
  {
   "cell_type": "code",
   "execution_count": 21,
   "id": "standing-migration",
   "metadata": {},
   "outputs": [],
   "source": [
    "output['open'] = output.hours.str.split('-').str[0]\n",
    "output['close'] = output.hours.str.split('-').str[1]\n",
    "\n",
    "output['open'] = pd.to_datetime(output['open'], format='%H:%M').dt.hour\n",
    "output['close'] = pd.to_datetime(output['close'], format='%H:%M').dt.hour"
   ]
  },
  {
   "cell_type": "markdown",
   "id": "complex-auction",
   "metadata": {},
   "source": [
    "- 요일별 open 시간 파악"
   ]
  },
  {
   "cell_type": "code",
   "execution_count": 22,
   "id": "sonic-lover",
   "metadata": {},
   "outputs": [
    {
     "data": {
      "text/html": [
       "<div>\n",
       "<style scoped>\n",
       "    .dataframe tbody tr th:only-of-type {\n",
       "        vertical-align: middle;\n",
       "    }\n",
       "\n",
       "    .dataframe tbody tr th {\n",
       "        vertical-align: top;\n",
       "    }\n",
       "\n",
       "    .dataframe thead th {\n",
       "        text-align: right;\n",
       "    }\n",
       "</style>\n",
       "<table border=\"1\" class=\"dataframe\">\n",
       "  <thead>\n",
       "    <tr style=\"text-align: right;\">\n",
       "      <th>day_of_week</th>\n",
       "      <th>Sunday</th>\n",
       "      <th>Monday</th>\n",
       "      <th>Tuesday</th>\n",
       "      <th>Wednesday</th>\n",
       "      <th>Thursday</th>\n",
       "      <th>Friday</th>\n",
       "      <th>Saturday</th>\n",
       "    </tr>\n",
       "    <tr>\n",
       "      <th>open</th>\n",
       "      <th></th>\n",
       "      <th></th>\n",
       "      <th></th>\n",
       "      <th></th>\n",
       "      <th></th>\n",
       "      <th></th>\n",
       "      <th></th>\n",
       "    </tr>\n",
       "  </thead>\n",
       "  <tbody>\n",
       "    <tr>\n",
       "      <th>9</th>\n",
       "      <td>0.0</td>\n",
       "      <td>0.0</td>\n",
       "      <td>1.0</td>\n",
       "      <td>1.0</td>\n",
       "      <td>1.0</td>\n",
       "      <td>1.0</td>\n",
       "      <td>1.0</td>\n",
       "    </tr>\n",
       "    <tr>\n",
       "      <th>10</th>\n",
       "      <td>0.0</td>\n",
       "      <td>2.0</td>\n",
       "      <td>2.0</td>\n",
       "      <td>2.0</td>\n",
       "      <td>2.0</td>\n",
       "      <td>2.0</td>\n",
       "      <td>1.0</td>\n",
       "    </tr>\n",
       "    <tr>\n",
       "      <th>11</th>\n",
       "      <td>7.0</td>\n",
       "      <td>12.0</td>\n",
       "      <td>12.0</td>\n",
       "      <td>12.0</td>\n",
       "      <td>12.0</td>\n",
       "      <td>11.0</td>\n",
       "      <td>10.0</td>\n",
       "    </tr>\n",
       "    <tr>\n",
       "      <th>12</th>\n",
       "      <td>4.0</td>\n",
       "      <td>0.0</td>\n",
       "      <td>1.0</td>\n",
       "      <td>1.0</td>\n",
       "      <td>1.0</td>\n",
       "      <td>2.0</td>\n",
       "      <td>2.0</td>\n",
       "    </tr>\n",
       "    <tr>\n",
       "      <th>14</th>\n",
       "      <td>0.0</td>\n",
       "      <td>0.0</td>\n",
       "      <td>0.0</td>\n",
       "      <td>0.0</td>\n",
       "      <td>0.0</td>\n",
       "      <td>0.0</td>\n",
       "      <td>1.0</td>\n",
       "    </tr>\n",
       "    <tr>\n",
       "      <th>15</th>\n",
       "      <td>4.0</td>\n",
       "      <td>1.0</td>\n",
       "      <td>1.0</td>\n",
       "      <td>1.0</td>\n",
       "      <td>1.0</td>\n",
       "      <td>1.0</td>\n",
       "      <td>2.0</td>\n",
       "    </tr>\n",
       "    <tr>\n",
       "      <th>16</th>\n",
       "      <td>1.0</td>\n",
       "      <td>0.0</td>\n",
       "      <td>0.0</td>\n",
       "      <td>0.0</td>\n",
       "      <td>0.0</td>\n",
       "      <td>1.0</td>\n",
       "      <td>1.0</td>\n",
       "    </tr>\n",
       "    <tr>\n",
       "      <th>17</th>\n",
       "      <td>0.0</td>\n",
       "      <td>1.0</td>\n",
       "      <td>1.0</td>\n",
       "      <td>1.0</td>\n",
       "      <td>1.0</td>\n",
       "      <td>0.0</td>\n",
       "      <td>0.0</td>\n",
       "    </tr>\n",
       "  </tbody>\n",
       "</table>\n",
       "</div>"
      ],
      "text/plain": [
       "day_of_week  Sunday  Monday  Tuesday  Wednesday  Thursday  Friday  Saturday\n",
       "open                                                                       \n",
       "9               0.0     0.0      1.0        1.0       1.0     1.0       1.0\n",
       "10              0.0     2.0      2.0        2.0       2.0     2.0       1.0\n",
       "11              7.0    12.0     12.0       12.0      12.0    11.0      10.0\n",
       "12              4.0     0.0      1.0        1.0       1.0     2.0       2.0\n",
       "14              0.0     0.0      0.0        0.0       0.0     0.0       1.0\n",
       "15              4.0     1.0      1.0        1.0       1.0     1.0       2.0\n",
       "16              1.0     0.0      0.0        0.0       0.0     1.0       1.0\n",
       "17              0.0     1.0      1.0        1.0       1.0     0.0       0.0"
      ]
     },
     "execution_count": 22,
     "metadata": {},
     "output_type": "execute_result"
    }
   ],
   "source": [
    "open_hour_count = output.groupby([\"day_of_week\", 'open'], as_index=False)['name'].count()\n",
    "open_hour_count = open_hour_count.rename(columns={'name': 'count'})\n",
    "piv = open_hour_count.pivot(index='open', columns='day_of_week', values='count')\n",
    "piv = piv.fillna(0)\n",
    "piv = piv[['Sunday', 'Monday', 'Tuesday', 'Wednesday', 'Thursday', 'Friday', 'Saturday']]\n",
    "\n",
    "piv"
   ]
  },
  {
   "cell_type": "code",
   "execution_count": 23,
   "id": "interracial-algorithm",
   "metadata": {},
   "outputs": [
    {
     "data": {
      "text/plain": [
       "<seaborn.axisgrid.FacetGrid at 0x2063df72288>"
      ]
     },
     "execution_count": 23,
     "metadata": {},
     "output_type": "execute_result"
    },
    {
     "data": {
      "image/png": "[encoded data removed]",
      "text/plain": [
       "<Figure size 1296x432 with 7 Axes>"
      ]
     },
     "metadata": {
      "needs_background": "light"
     },
     "output_type": "display_data"
    }
   ],
   "source": [
    "melt_df = piv.unstack().reset_index()\n",
    "melt_df = melt_df.rename(columns={0: 'count'})\n",
    "\n",
    "g = sns.FacetGrid(\n",
    "    melt_df, col=\"day_of_week\", height=3, aspect=1.5, col_wrap=4,\n",
    "    col_order=['Sunday', 'Monday', 'Tuesday', 'Wednesday', 'Thursday', 'Friday', 'Saturday']\n",
    ")\n",
    "g.map_dataframe(sns.barplot, x=\"open\", y=\"count\")\n",
    "g.set_axis_labels(\"open hour\")"
   ]
  },
  {
   "cell_type": "markdown",
   "id": "established-click",
   "metadata": {},
   "source": [
    "- 요일별 close 시간 파악"
   ]
  },
  {
   "cell_type": "code",
   "execution_count": 24,
   "id": "judicial-navigation",
   "metadata": {},
   "outputs": [
    {
     "data": {
      "text/html": [
       "<div>\n",
       "<style scoped>\n",
       "    .dataframe tbody tr th:only-of-type {\n",
       "        vertical-align: middle;\n",
       "    }\n",
       "\n",
       "    .dataframe tbody tr th {\n",
       "        vertical-align: top;\n",
       "    }\n",
       "\n",
       "    .dataframe thead th {\n",
       "        text-align: right;\n",
       "    }\n",
       "</style>\n",
       "<table border=\"1\" class=\"dataframe\">\n",
       "  <thead>\n",
       "    <tr style=\"text-align: right;\">\n",
       "      <th>day_of_week</th>\n",
       "      <th>Sunday</th>\n",
       "      <th>Monday</th>\n",
       "      <th>Tuesday</th>\n",
       "      <th>Wednesday</th>\n",
       "      <th>Thursday</th>\n",
       "      <th>Friday</th>\n",
       "      <th>Saturday</th>\n",
       "    </tr>\n",
       "    <tr>\n",
       "      <th>close</th>\n",
       "      <th></th>\n",
       "      <th></th>\n",
       "      <th></th>\n",
       "      <th></th>\n",
       "      <th></th>\n",
       "      <th></th>\n",
       "      <th></th>\n",
       "    </tr>\n",
       "  </thead>\n",
       "  <tbody>\n",
       "    <tr>\n",
       "      <th>0</th>\n",
       "      <td>3.0</td>\n",
       "      <td>3.0</td>\n",
       "      <td>3.0</td>\n",
       "      <td>3.0</td>\n",
       "      <td>3.0</td>\n",
       "      <td>5.0</td>\n",
       "      <td>4.0</td>\n",
       "    </tr>\n",
       "    <tr>\n",
       "      <th>1</th>\n",
       "      <td>1.0</td>\n",
       "      <td>1.0</td>\n",
       "      <td>1.0</td>\n",
       "      <td>1.0</td>\n",
       "      <td>1.0</td>\n",
       "      <td>1.0</td>\n",
       "      <td>1.0</td>\n",
       "    </tr>\n",
       "    <tr>\n",
       "      <th>2</th>\n",
       "      <td>1.0</td>\n",
       "      <td>1.0</td>\n",
       "      <td>1.0</td>\n",
       "      <td>1.0</td>\n",
       "      <td>1.0</td>\n",
       "      <td>2.0</td>\n",
       "      <td>2.0</td>\n",
       "    </tr>\n",
       "    <tr>\n",
       "      <th>3</th>\n",
       "      <td>0.0</td>\n",
       "      <td>0.0</td>\n",
       "      <td>0.0</td>\n",
       "      <td>0.0</td>\n",
       "      <td>0.0</td>\n",
       "      <td>1.0</td>\n",
       "      <td>1.0</td>\n",
       "    </tr>\n",
       "    <tr>\n",
       "      <th>15</th>\n",
       "      <td>0.0</td>\n",
       "      <td>0.0</td>\n",
       "      <td>0.0</td>\n",
       "      <td>0.0</td>\n",
       "      <td>0.0</td>\n",
       "      <td>0.0</td>\n",
       "      <td>1.0</td>\n",
       "    </tr>\n",
       "    <tr>\n",
       "      <th>16</th>\n",
       "      <td>0.0</td>\n",
       "      <td>0.0</td>\n",
       "      <td>1.0</td>\n",
       "      <td>1.0</td>\n",
       "      <td>1.0</td>\n",
       "      <td>1.0</td>\n",
       "      <td>0.0</td>\n",
       "    </tr>\n",
       "    <tr>\n",
       "      <th>17</th>\n",
       "      <td>1.0</td>\n",
       "      <td>1.0</td>\n",
       "      <td>1.0</td>\n",
       "      <td>1.0</td>\n",
       "      <td>0.0</td>\n",
       "      <td>0.0</td>\n",
       "      <td>1.0</td>\n",
       "    </tr>\n",
       "    <tr>\n",
       "      <th>18</th>\n",
       "      <td>0.0</td>\n",
       "      <td>0.0</td>\n",
       "      <td>0.0</td>\n",
       "      <td>0.0</td>\n",
       "      <td>1.0</td>\n",
       "      <td>1.0</td>\n",
       "      <td>0.0</td>\n",
       "    </tr>\n",
       "    <tr>\n",
       "      <th>21</th>\n",
       "      <td>2.0</td>\n",
       "      <td>0.0</td>\n",
       "      <td>1.0</td>\n",
       "      <td>1.0</td>\n",
       "      <td>1.0</td>\n",
       "      <td>1.0</td>\n",
       "      <td>1.0</td>\n",
       "    </tr>\n",
       "    <tr>\n",
       "      <th>22</th>\n",
       "      <td>4.0</td>\n",
       "      <td>5.0</td>\n",
       "      <td>4.0</td>\n",
       "      <td>4.0</td>\n",
       "      <td>4.0</td>\n",
       "      <td>1.0</td>\n",
       "      <td>1.0</td>\n",
       "    </tr>\n",
       "    <tr>\n",
       "      <th>23</th>\n",
       "      <td>4.0</td>\n",
       "      <td>5.0</td>\n",
       "      <td>6.0</td>\n",
       "      <td>6.0</td>\n",
       "      <td>6.0</td>\n",
       "      <td>5.0</td>\n",
       "      <td>6.0</td>\n",
       "    </tr>\n",
       "  </tbody>\n",
       "</table>\n",
       "</div>"
      ],
      "text/plain": [
       "day_of_week  Sunday  Monday  Tuesday  Wednesday  Thursday  Friday  Saturday\n",
       "close                                                                      \n",
       "0               3.0     3.0      3.0        3.0       3.0     5.0       4.0\n",
       "1               1.0     1.0      1.0        1.0       1.0     1.0       1.0\n",
       "2               1.0     1.0      1.0        1.0       1.0     2.0       2.0\n",
       "3               0.0     0.0      0.0        0.0       0.0     1.0       1.0\n",
       "15              0.0     0.0      0.0        0.0       0.0     0.0       1.0\n",
       "16              0.0     0.0      1.0        1.0       1.0     1.0       0.0\n",
       "17              1.0     1.0      1.0        1.0       0.0     0.0       1.0\n",
       "18              0.0     0.0      0.0        0.0       1.0     1.0       0.0\n",
       "21              2.0     0.0      1.0        1.0       1.0     1.0       1.0\n",
       "22              4.0     5.0      4.0        4.0       4.0     1.0       1.0\n",
       "23              4.0     5.0      6.0        6.0       6.0     5.0       6.0"
      ]
     },
     "execution_count": 24,
     "metadata": {},
     "output_type": "execute_result"
    }
   ],
   "source": [
    "close_hour_count = output.groupby([\"day_of_week\", 'close'], as_index=False)['name'].count()\n",
    "close_hour_count = close_hour_count.rename(columns={'name': 'count'})\n",
    "\n",
    "piv = close_hour_count.pivot(index='close', columns='day_of_week', values='count')\n",
    "piv = piv.fillna(0)\n",
    "piv[['Sunday', 'Monday', 'Tuesday', 'Wednesday', 'Thursday', 'Friday', 'Saturday']]"
   ]
  },
  {
   "cell_type": "code",
   "execution_count": 25,
   "id": "thick-bunch",
   "metadata": {},
   "outputs": [
    {
     "data": {
      "text/plain": [
       "<seaborn.axisgrid.FacetGrid at 0x2063e04ad88>"
      ]
     },
     "execution_count": 25,
     "metadata": {},
     "output_type": "execute_result"
    },
    {
     "data": {
      "image/png": "[encoded data removed]",
      "text/plain": [
       "<Figure size 1296x432 with 7 Axes>"
      ]
     },
     "metadata": {
      "needs_background": "light"
     },
     "output_type": "display_data"
    }
   ],
   "source": [
    "melt_df = piv.unstack().reset_index()\n",
    "melt_df = melt_df.rename(columns={0: 'count'})\n",
    "\n",
    "g = sns.FacetGrid(\n",
    "    melt_df, col=\"day_of_week\", height=3, aspect=1.5, col_wrap=4,\n",
    "    col_order=['Sunday', 'Monday', 'Tuesday', 'Wednesday', 'Thursday', 'Friday', 'Saturday']\n",
    ")\n",
    "g.map_dataframe(sns.barplot, x=\"close\", y=\"count\")\n",
    "g.set_axis_labels(\"close hour\")"
   ]
  }
 ],
 "metadata": {
  "kernelspec": {
   "display_name": "Python 3",
   "language": "python",
   "name": "python3"
  },
  "language_info": {
   "codemirror_mode": {
    "name": "ipython",
    "version": 3
   },
   "file_extension": ".py",
   "mimetype": "text/x-python",
   "name": "python",
   "nbconvert_exporter": "python",
   "pygments_lexer": "ipython3",
   "version": "3.7.7"
  }
 },
 "nbformat": 4,
 "nbformat_minor": 5
}
